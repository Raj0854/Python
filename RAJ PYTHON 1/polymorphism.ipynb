{
 "cells": [
  {
   "cell_type": "code",
   "execution_count": 43,
   "id": "23989ea7-0839-458f-8f4c-c73189afd605",
   "metadata": {},
   "outputs": [],
   "source": [
    "class Animal:\n",
    "    def sound(self):\n",
    "        return \"some sound\"\n",
    "        \n",
    "class dog(Animal):\n",
    "    def sound(self):\n",
    "        return \"bark\"\n",
    "        \n",
    "class cat(Animal):\n",
    "    def sound(self):\n",
    "        return \"meow\"\n",
    "        \n",
    "def make_sound(Animal):\n",
    "    return(Animal.sound())"
   ]
  },
  {
   "cell_type": "code",
   "execution_count": 44,
   "id": "3f7ee57f-7abb-4f89-874d-60c0f35ece2c",
   "metadata": {},
   "outputs": [],
   "source": [
    "dog=dog()\n",
    "cat=cat()\n"
   ]
  },
  {
   "cell_type": "code",
   "execution_count": 45,
   "id": "68ccd020-0c33-4ae0-b90c-76102c5a7742",
   "metadata": {},
   "outputs": [
    {
     "data": {
      "text/plain": [
       "'meow'"
      ]
     },
     "execution_count": 45,
     "metadata": {},
     "output_type": "execute_result"
    }
   ],
   "source": [
    "make_sound(cat)\n"
   ]
  },
  {
   "cell_type": "code",
   "execution_count": 47,
   "id": "a13e9bef-e194-4307-a3ff-89ae17e280be",
   "metadata": {},
   "outputs": [
    {
     "data": {
      "text/plain": [
       "'bark'"
      ]
     },
     "execution_count": 47,
     "metadata": {},
     "output_type": "execute_result"
    }
   ],
   "source": [
    "make_sound(dog)"
   ]
  },
  {
   "cell_type": "markdown",
   "id": "2040018f-30c3-4073-a52e-78d62ef5f3ee",
   "metadata": {},
   "source": []
  }
 ],
 "metadata": {
  "kernelspec": {
   "display_name": "Python 3 (ipykernel)",
   "language": "python",
   "name": "python3"
  },
  "language_info": {
   "codemirror_mode": {
    "name": "ipython",
    "version": 3
   },
   "file_extension": ".py",
   "mimetype": "text/x-python",
   "name": "python",
   "nbconvert_exporter": "python",
   "pygments_lexer": "ipython3",
   "version": "3.12.7"
  }
 },
 "nbformat": 4,
 "nbformat_minor": 5
}

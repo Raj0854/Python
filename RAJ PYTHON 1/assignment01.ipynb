{
 "cells": [
  {
   "cell_type": "code",
   "execution_count": 2,
   "id": "2e522e77",
   "metadata": {},
   "outputs": [
    {
     "name": "stdout",
     "output_type": "stream",
     "text": [
      "addition 30\n",
      "subtraction 20\n",
      "multiplication 125\n",
      "divide 5\n"
     ]
    }
   ],
   "source": [
    "#1. Basic Arithmetic Operations\n",
    "#Write a Python script that declares two variables, num1 and num2, assigns them with integer values, and then performs basic arithmetic operations such as addition, subtraction, multiplication, and division using these variables.\n",
    "a=int(input(\"enter number one\"))\n",
    "b=int(input(\"enter number two\"))\n",
    "print(\"addition\",a+b)\n",
    "print(\"subtraction\",a-b)\n",
    "print(\"multiplication\",a*b)\n",
    "print(\"divide\",a//b)"
   ]
  },
  {
   "cell_type": "code",
   "execution_count": 3,
   "id": "98481fad",
   "metadata": {},
   "outputs": [
    {
     "name": "stdout",
     "output_type": "stream",
     "text": [
      "result is : 89.6\n"
     ]
    }
   ],
   "source": [
    "#2. Temperature Converter\n",
    "#Create a Python program that prompts the user to enter a temperature in Celsius, stores it in a variable, and then converts it to Fahrenheit using the formula (Celsius * 9/5) + 32. Display the result.\n",
    "temperature=int(input(\"enter the temperature in celsius\"))\n",
    "celsius=temperature\n",
    "result = (celsius*9/5)+32\n",
    "print(\"result is :\",result)"
   ]
  },
  {
   "cell_type": "code",
   "execution_count": 6,
   "id": "1b4d75fc",
   "metadata": {},
   "outputs": [
    {
     "name": "stdout",
     "output_type": "stream",
     "text": [
      "full name: ashwin kannaujiya\n"
     ]
    }
   ],
   "source": [
    "#3. String Concatenation\t\n",
    "#Write a Python script that declares two string variables and concatenates them together. Prompt the user to enter their first name and last name separately, then concatenate them and print out the full name.\n",
    "first_name=input(\"enter the first name\")\n",
    "last_name=input(\"enter the last name\")\n",
    "full_name=first_name +\"\"+ last_name\n",
    "print(\"full name:\",full_name)"
   ]
  },
  {
   "cell_type": "code",
   "execution_count": 7,
   "id": "3e71d217",
   "metadata": {},
   "outputs": [
    {
     "name": "stdout",
     "output_type": "stream",
     "text": [
      "your bmi is: 2.3651123046875\n"
     ]
    }
   ],
   "source": [
    "#4. BMI Calculator\n",
    "#Develop a Python program that calculates Body Mass Index (BMI). Prompt the user to enter their weight in kilograms and height in meters. Calculate BMI using the formula BMI = weight / (height * height). Print out the BMI.\n",
    "weight=int(input(\"enter your weight\"))\n",
    "height=float(input(\"enter your height\"))\n",
    "BMI = weight / (height * height)\n",
    "print(\"your bmi is:\",BMI)"
   ]
  },
  {
   "cell_type": "code",
   "execution_count": 9,
   "id": "20bf5681",
   "metadata": {},
   "outputs": [
    {
     "name": "stdout",
     "output_type": "stream",
     "text": [
      "area of triangle is: 10.0\n"
     ]
    }
   ],
   "source": [
    "#5. Area of a Triangle\n",
    "base=int(input(\"enter the base\"))\n",
    "height=float(input(\"enter the height\"))\n",
    "area=(base * height) / 2 \n",
    "print(\"area of triangle is:\",area)"
   ]
  },
  {
   "cell_type": "code",
   "execution_count": 10,
   "id": "418541f4",
   "metadata": {},
   "outputs": [
    {
     "name": "stdout",
     "output_type": "stream",
     "text": [
      "your current age is: 20\n"
     ]
    }
   ],
   "source": [
    "#6. Age Calculator\n",
    "#Create a Python script that prompts the user to enter their birth year and stores it in a variable. Calculate the user's age based on the current year and print out the result.\n",
    "birth_year=int(input(\"enter your birth year\"))\n",
    "current_year=2025\n",
    "age=current_year-birth_year\n",
    "print(\"your current age is:\",age)"
   ]
  },
  {
   "cell_type": "code",
   "execution_count": 13,
   "id": "fbe58e67",
   "metadata": {},
   "outputs": [
    {
     "name": "stdout",
     "output_type": "stream",
     "text": [
      "this is odd number\n"
     ]
    }
   ],
   "source": [
    "#7. Even or Odd.\n",
    "#Write a Python program that prompts the user to enter an integer and checks whether it's even or odd. Print out the result.\n",
    "number=int(input(\"enter the number to check\"))\n",
    "if number%2 ==0:\n",
    "    print(\"this is even\")\n",
    "else:\n",
    "    print(\"this is odd number\")"
   ]
  },
  {
   "cell_type": "code",
   "execution_count": 1,
   "id": "0824827e",
   "metadata": {},
   "outputs": [
    {
     "name": "stdout",
     "output_type": "stream",
     "text": [
      "average is : 120.0\n",
      "your grade is A\n"
     ]
    }
   ],
   "source": [
    "#8. Grade Calculator\t\n",
    "#Develop a Python script that takes in the scores of three tests (out of 100) and stores them in variables. Calculate the average score and print it out. Then, based on the average score, assign a letter grade (A, B, C, D, or F) and print it out.\n",
    "test1=int(input(\"enter the score\"))\n",
    "test2=int(input(\"enter the score\"))\n",
    "test3=int(input(\"enter the score\"))\n",
    "average=test1+test2+test3/3\n",
    "print(\"average is :\",average)\n",
    "if average>=90:\n",
    "    print(\"your grade is A\")\n",
    "elif average>=80:\n",
    "    print(\"your grade is B\")\n",
    "elif average>=70:\n",
    "    print(\"your grade is c\")\n",
    "elif average>=60:\n",
    "    print(\"ypur average is D\")\n",
    "else:\n",
    "    print(\"your grade is F\")"
   ]
  },
  {
   "cell_type": "code",
   "execution_count": 2,
   "id": "2b63e548",
   "metadata": {},
   "outputs": [
    {
     "name": "stdout",
     "output_type": "stream",
     "text": [
      "simple interest: 48000.0\n"
     ]
    }
   ],
   "source": [
    "#9. Simple Interest Calculator\n",
    "#Create a Python program that calculates simple interest. Prompt the user to enter principal amount, rate of interest, and time (in years). Calculate simple interest using the formula Simple Interest = (principal * rate * time) / 100 and display the result.\n",
    "principal=int(input(\"enter the principal amount\"))\n",
    "rate=int(input(\"enter the rate of interest\"))\n",
    "time=int(input(\"enter the time in years\"))\n",
    "\n",
    "Simple_Interest = (principal * rate * time) / 100\n",
    "print(\"simple interest:\",Simple_Interest)\n"
   ]
  },
  {
   "cell_type": "code",
   "execution_count": null,
   "id": "1be48cec",
   "metadata": {},
   "outputs": [],
   "source": [
    "#10. Quadratic Equation Solver\t\n",
    "#Write a Python script that solves a quadratic equation. Prompt the user to enter the coefficients a, b, and c of the quadratic equation ax^2 + bx + c = 0. Calculate the roots of the equation using the quadratic formula and print out the results. Make sure to handle cases where the discriminant is negative.\n"
   ]
  }
 ],
 "metadata": {
  "kernelspec": {
   "display_name": "Python 3",
   "language": "python",
   "name": "python3"
  },
  "language_info": {
   "codemirror_mode": {
    "name": "ipython",
    "version": 3
   },
   "file_extension": ".py",
   "mimetype": "text/x-python",
   "name": "python",
   "nbconvert_exporter": "python",
   "pygments_lexer": "ipython3",
   "version": "3.13.3"
  }
 },
 "nbformat": 4,
 "nbformat_minor": 5
}

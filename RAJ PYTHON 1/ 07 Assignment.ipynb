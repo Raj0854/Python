{
 "cells": [
  {
   "cell_type": "code",
   "execution_count": 11,
   "id": "26becbdb-f9e7-494f-8d6a-c5f9b21ae9b0",
   "metadata": {},
   "outputs": [
    {
     "name": "stdin",
     "output_type": "stream",
     "text": [
      "Enter the exam score :- 88\n"
     ]
    },
    {
     "name": "stdout",
     "output_type": "stream",
     "text": [
      "Your grade is A.\n"
     ]
    }
   ],
   "source": [
    "#### Grade Classifier\n",
    "marks=int(input(\"Enter the exam score :-\"))\n",
    "if marks <=30:\n",
    "    print(\"You are fail !\")\n",
    "elif marks <= 50:\n",
    "    print(\"Your grade is C.\")\n",
    "elif marks <=79:\n",
    "    print(\"Your grade is B.\")\n",
    "elif marks <=100:\n",
    "    print(\"Your grade is A.\")\n",
    "else:\n",
    "    print(\"Enter a valid score between 1 to 100\")"
   ]
  },
  {
   "cell_type": "code",
   "execution_count": 15,
   "id": "36343211-0900-49a6-b986-5fcecf5fd4f2",
   "metadata": {},
   "outputs": [
    {
     "name": "stdin",
     "output_type": "stream",
     "text": [
      "Enter the First Number :- 852\n",
      "Enter the Second Number :- 2\n"
     ]
    },
    {
     "name": "stdout",
     "output_type": "stream",
     "text": [
      "852  is greater than  2\n"
     ]
    }
   ],
   "source": [
    "###Number Comparison\n",
    "first=int(input(\"Enter the First Number :-\"))\n",
    "second=int(input(\"Enter the Second Number :-\"))\n",
    "if first > second:\n",
    "    print(first,\" is greater than \",second)\n",
    "elif first < second:\n",
    "    print(second,\" is greater than \",first)\n",
    "elif first==second:\n",
    "    print(\"First number is equal to second number\")\n",
    "\n"
   ]
  },
  {
   "cell_type": "code",
   "execution_count": null,
   "id": "fa85cbec-0e99-49f5-8ce5-20d33fac939b",
   "metadata": {},
   "outputs": [],
   "source": []
  }
 ],
 "metadata": {
  "kernelspec": {
   "display_name": "Python 3 (ipykernel)",
   "language": "python",
   "name": "python3"
  },
  "language_info": {
   "codemirror_mode": {
    "name": "ipython",
    "version": 3
   },
   "file_extension": ".py",
   "mimetype": "text/x-python",
   "name": "python",
   "nbconvert_exporter": "python",
   "pygments_lexer": "ipython3",
   "version": "3.12.7"
  }
 },
 "nbformat": 4,
 "nbformat_minor": 5
}

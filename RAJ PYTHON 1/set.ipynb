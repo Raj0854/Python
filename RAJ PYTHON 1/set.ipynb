{
 "cells": [
  {
   "cell_type": "code",
   "execution_count": 5,
   "id": "822805f0-93c4-4dcd-8e0e-78fb9a622236",
   "metadata": {},
   "outputs": [],
   "source": [
    "data={1,1,131,3,3,3,3,3,3,3,3,3,3,56,463,45,4,541,51,4,21,56,41,4,4,69}"
   ]
  },
  {
   "cell_type": "code",
   "execution_count": 6,
   "id": "d3a120f9-4cc9-466f-823f-7a700efd8444",
   "metadata": {},
   "outputs": [
    {
     "name": "stdout",
     "output_type": "stream",
     "text": [
      "{1, 3, 131, 69, 4, 41, 45, 463, 51, 21, 56, 541}\n"
     ]
    }
   ],
   "source": [
    "print(data)"
   ]
  },
  {
   "cell_type": "code",
   "execution_count": 18,
   "id": "352c7e33-f070-4abb-84ca-9542e134f6b9",
   "metadata": {},
   "outputs": [
    {
     "name": "stdout",
     "output_type": "stream",
     "text": [
      "{1, 2, 3, 4, 5, 6, 7, 8, 9, 999, 998, 997, 996}\n"
     ]
    }
   ],
   "source": [
    "data=set(data)\n",
    "print(data)"
   ]
  },
  {
   "cell_type": "code",
   "execution_count": 11,
   "id": "6fa88e87-8f2a-42b9-9819-a43fc7b81ac7",
   "metadata": {},
   "outputs": [
    {
     "name": "stdout",
     "output_type": "stream",
     "text": [
      "{1, 2, 3, 4, 5, 6, 7, 8, 9}\n"
     ]
    }
   ],
   "source": [
    "list_data={1,1,1,2,2,3,4,5,6,7,8,9,1,1,1,1}\n",
    "set_data=set(list_data)\n",
    "print(set_data)"
   ]
  },
  {
   "cell_type": "code",
   "execution_count": 16,
   "id": "09d97a79-f0e3-463a-afe3-c3c83473788d",
   "metadata": {},
   "outputs": [],
   "source": [
    "data={1,2,3,4,5,6,7,8,9}\n",
    "data.update([999,998,997,996])"
   ]
  },
  {
   "cell_type": "code",
   "execution_count": 17,
   "id": "a928e267-610a-4d76-832e-4b7dd0fac015",
   "metadata": {},
   "outputs": [
    {
     "name": "stdout",
     "output_type": "stream",
     "text": [
      "{1, 2, 3, 4, 5, 6, 7, 8, 9, 999, 998, 997, 996}\n"
     ]
    }
   ],
   "source": [
    "print(data)"
   ]
  },
  {
   "cell_type": "code",
   "execution_count": null,
   "id": "3b3bf733-069b-4951-bd39-582ed6f69a8f",
   "metadata": {},
   "outputs": [],
   "source": []
  }
 ],
 "metadata": {
  "kernelspec": {
   "display_name": "Python 3 (ipykernel)",
   "language": "python",
   "name": "python3"
  },
  "language_info": {
   "codemirror_mode": {
    "name": "ipython",
    "version": 3
   },
   "file_extension": ".py",
   "mimetype": "text/x-python",
   "name": "python",
   "nbconvert_exporter": "python",
   "pygments_lexer": "ipython3",
   "version": "3.12.7"
  }
 },
 "nbformat": 4,
 "nbformat_minor": 5
}

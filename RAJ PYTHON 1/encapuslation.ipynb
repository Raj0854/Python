{
 "cells": [
  {
   "cell_type": "code",
   "execution_count": 4,
   "id": "600ee87b-d632-4b8d-b212-c1208deb896a",
   "metadata": {},
   "outputs": [],
   "source": [
    "class creditcard:\n",
    "    def __init__(self,cardname,creditlimit,customername):\n",
    "        self.cardname=cardname\n",
    "        self.creditlimit = creditlimit\n",
    "        self.customername =customername\n",
    "    def get_cardname(self):\n",
    "        return self.cardname\n",
    "    def get_creditlimit(self):\n",
    "        return self.creditlimit\n",
    "    def get_customername(self):\n",
    "        return self.customername\n",
    "        "
   ]
  },
  {
   "cell_type": "code",
   "execution_count": 7,
   "id": "f159bd54-2d3e-49fd-8f47-b2cd18b9d494",
   "metadata": {},
   "outputs": [
    {
     "name": "stdout",
     "output_type": "stream",
     "text": [
      "customer name :-aman\n",
      "card name :-sbi\n",
      "creditlimit :-120000\n"
     ]
    }
   ],
   "source": [
    "cd=creditcard(\"sbi\",120000,\"aman\")\n",
    "print(f'customer name :-{cd.get_customername()}')\n",
    "print(f'card name :-{cd.get_cardname()}')\n",
    "print(f'creditlimit :-{cd.get_creditlimit()}')"
   ]
  },
  {
   "cell_type": "code",
   "execution_count": null,
   "id": "fe72f3f8-ffa2-4004-9827-a673a481f0bf",
   "metadata": {},
   "outputs": [],
   "source": []
  }
 ],
 "metadata": {
  "kernelspec": {
   "display_name": "Python 3 (ipykernel)",
   "language": "python",
   "name": "python3"
  },
  "language_info": {
   "codemirror_mode": {
    "name": "ipython",
    "version": 3
   },
   "file_extension": ".py",
   "mimetype": "text/x-python",
   "name": "python",
   "nbconvert_exporter": "python",
   "pygments_lexer": "ipython3",
   "version": "3.12.7"
  }
 },
 "nbformat": 4,
 "nbformat_minor": 5
}

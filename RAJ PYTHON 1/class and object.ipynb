{
 "cells": [
  {
   "cell_type": "code",
   "execution_count": 1,
   "id": "555bddaa-d3df-41de-949e-848759f47ed0",
   "metadata": {},
   "outputs": [],
   "source": [
    "def my_self():\n",
    "    print(\"my name is xyz.\"\n",
    "          \"i am a boy.\"\n",
    "          \"i am 19 years old\")\n",
    "    "
   ]
  },
  {
   "cell_type": "code",
   "execution_count": 2,
   "id": "8361a4f1-302f-47f2-8bdb-356f4833d0cb",
   "metadata": {},
   "outputs": [
    {
     "name": "stdout",
     "output_type": "stream",
     "text": [
      "my name is xyz.i am a boy.i am 19 years old\n"
     ]
    }
   ],
   "source": [
    "my_self()"
   ]
  },
  {
   "cell_type": "code",
   "execution_count": 10,
   "id": "dc9d83c5-b58b-4168-96e9-7b500a30ccce",
   "metadata": {},
   "outputs": [],
   "source": [
    "class intro:\n",
    "    def self():\n",
    "        print(\"my name is xyz.\"\n",
    "              \"i am a boy.\"\n",
    "              \"i am 19 years old\")\n",
    "        \n",
    "        "
   ]
  },
  {
   "cell_type": "code",
   "execution_count": 11,
   "id": "9bfc0a5c-55d4-423f-93ea-bad07a2b020e",
   "metadata": {},
   "outputs": [
    {
     "name": "stdout",
     "output_type": "stream",
     "text": [
      "my name is xyz.i am a boy.i am 19 years old\n"
     ]
    }
   ],
   "source": [
    "my_self()"
   ]
  },
  {
   "cell_type": "code",
   "execution_count": 12,
   "id": "786f525c-abb1-447f-b268-8185a70c8ea2",
   "metadata": {},
   "outputs": [
    {
     "name": "stdout",
     "output_type": "stream",
     "text": [
      "my name is xyz.i am a boy.i am 19 years old\n"
     ]
    }
   ],
   "source": [
    "obj=intro\n",
    "obj.self()\n"
   ]
  },
  {
   "cell_type": "code",
   "execution_count": 36,
   "id": "ec72865f-757c-4972-93ea-e53ada388f66",
   "metadata": {},
   "outputs": [
    {
     "name": "stdin",
     "output_type": "stream",
     "text": [
      "ENter num1 51\n",
      "Enter num2 9\n"
     ]
    }
   ],
   "source": [
    "a=int(input(\"ENter num1\"))\n",
    "b= int(input(\"Enter num2\"))\n",
    "class maths:\n",
    "    def add():\n",
    "        print(a+b)\n",
    "    def sub():\n",
    "        print(a-b)\n",
    "    def multiply():\n",
    "        print(a*b)\n",
    "    def divide():\n",
    "        print(a/b)\n",
    "obj=maths\n",
    "        "
   ]
  },
  {
   "cell_type": "code",
   "execution_count": 37,
   "id": "3ffe2f69-8ae8-4c76-ad0a-1172fe175094",
   "metadata": {},
   "outputs": [
    {
     "name": "stdout",
     "output_type": "stream",
     "text": [
      "42\n"
     ]
    }
   ],
   "source": [
    "obj.sub()"
   ]
  },
  {
   "cell_type": "code",
   "execution_count": 38,
   "id": "46df1e3e-219b-4a2f-988b-ba470a1c0740",
   "metadata": {},
   "outputs": [
    {
     "name": "stdout",
     "output_type": "stream",
     "text": [
      "60\n"
     ]
    }
   ],
   "source": [
    "obj.add()"
   ]
  },
  {
   "cell_type": "code",
   "execution_count": 39,
   "id": "901d1cff-1458-489e-a897-040c34ab678d",
   "metadata": {},
   "outputs": [
    {
     "name": "stdout",
     "output_type": "stream",
     "text": [
      "459\n"
     ]
    }
   ],
   "source": [
    "obj.multiply()"
   ]
  },
  {
   "cell_type": "code",
   "execution_count": 40,
   "id": "910b2377-654e-4e2c-a7b9-4e5fad8bfbf1",
   "metadata": {},
   "outputs": [
    {
     "name": "stdout",
     "output_type": "stream",
     "text": [
      "5.666666666666667\n"
     ]
    }
   ],
   "source": [
    "obj.divide()"
   ]
  },
  {
   "cell_type": "code",
   "execution_count": null,
   "id": "6f2c0176-6ed4-4bcf-8f11-3403cb0651dd",
   "metadata": {},
   "outputs": [],
   "source": []
  }
 ],
 "metadata": {
  "kernelspec": {
   "display_name": "Python 3 (ipykernel)",
   "language": "python",
   "name": "python3"
  },
  "language_info": {
   "codemirror_mode": {
    "name": "ipython",
    "version": 3
   },
   "file_extension": ".py",
   "mimetype": "text/x-python",
   "name": "python",
   "nbconvert_exporter": "python",
   "pygments_lexer": "ipython3",
   "version": "3.12.7"
  }
 },
 "nbformat": 4,
 "nbformat_minor": 5
}

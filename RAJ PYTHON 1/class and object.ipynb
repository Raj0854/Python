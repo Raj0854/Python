{
 "cells": [
  {
   "cell_type": "code",
   "execution_count": 1,
   "id": "555bddaa-d3df-41de-949e-848759f47ed0",
   "metadata": {},
   "outputs": [],
   "source": [
    "def my_self():\n",
    "    print(\"my name is xyz.\"\n",
    "          \"i am a boy.\"\n",
    "          \"i am 19 years old\")\n",
    "    "
   ]
  },
  {
   "cell_type": "code",
   "execution_count": 2,
   "id": "8361a4f1-302f-47f2-8bdb-356f4833d0cb",
   "metadata": {},
   "outputs": [
    {
     "name": "stdout",
     "output_type": "stream",
     "text": [
      "my name is xyz.i am a boy.i am 19 years old\n"
     ]
    }
   ],
   "source": [
    "my_self()"
   ]
  },
  {
   "cell_type": "code",
   "execution_count": 10,
   "id": "dc9d83c5-b58b-4168-96e9-7b500a30ccce",
   "metadata": {},
   "outputs": [],
   "source": [
    "class intro:\n",
    "    def self():\n",
    "        print(\"my name is xyz.\"\n",
    "              \"i am a boy.\"\n",
    "              \"i am 19 years old\")\n",
    "        \n",
    "        "
   ]
  },
  {
   "cell_type": "code",
   "execution_count": 11,
   "id": "9bfc0a5c-55d4-423f-93ea-bad07a2b020e",
   "metadata": {},
   "outputs": [
    {
     "name": "stdout",
     "output_type": "stream",
     "text": [
      "my name is xyz.i am a boy.i am 19 years old\n"
     ]
    }
   ],
   "source": [
    "my_self()"
   ]
  },
  {
   "cell_type": "code",
   "execution_count": 12,
   "id": "786f525c-abb1-447f-b268-8185a70c8ea2",
   "metadata": {},
   "outputs": [
    {
     "name": "stdout",
     "output_type": "stream",
     "text": [
      "my name is xyz.i am a boy.i am 19 years old\n"
     ]
    }
   ],
   "source": [
    "obj=intro\n",
    "obj.self()\n"
   ]
  },
  {
   "cell_type": "code",
   "execution_count": 36,
   "id": "ec72865f-757c-4972-93ea-e53ada388f66",
   "metadata": {},
   "outputs": [
    {
     "name": "stdin",
     "output_type": "stream",
     "text": [
      "ENter num1 51\n",
      "Enter num2 9\n"
     ]
    }
   ],
   "source": [
    "a=int(input(\"ENter num1\"))\n",
    "b= int(input(\"Enter num2\"))\n",
    "class maths:\n",
    "    def add():\n",
    "        print(a+b)\n",
    "    def sub():\n",
    "        print(a-b)\n",
    "    def multiply():\n",
    "        print(a*b)\n",
    "    def divide():\n",
    "        print(a/b)\n",
    "obj=maths\n",
    "        "
   ]
  },
  {
   "cell_type": "code",
   "execution_count": 37,
   "id": "3ffe2f69-8ae8-4c76-ad0a-1172fe175094",
   "metadata": {},
   "outputs": [
    {
     "name": "stdout",
     "output_type": "stream",
     "text": [
      "42\n"
     ]
    }
   ],
   "source": [
    "obj.sub()"
   ]
  },
  {
   "cell_type": "code",
   "execution_count": 38,
   "id": "46df1e3e-219b-4a2f-988b-ba470a1c0740",
   "metadata": {},
   "outputs": [
    {
     "name": "stdout",
     "output_type": "stream",
     "text": [
      "60\n"
     ]
    }
   ],
   "source": [
    "obj.add()"
   ]
  },
  {
   "cell_type": "code",
   "execution_count": 39,
   "id": "901d1cff-1458-489e-a897-040c34ab678d",
   "metadata": {},
   "outputs": [
    {
     "name": "stdout",
     "output_type": "stream",
     "text": [
      "459\n"
     ]
    }
   ],
   "source": [
    "obj.multiply()"
   ]
  },
  {
   "cell_type": "code",
   "execution_count": 40,
   "id": "910b2377-654e-4e2c-a7b9-4e5fad8bfbf1",
   "metadata": {},
   "outputs": [
    {
     "name": "stdout",
     "output_type": "stream",
     "text": [
      "5.666666666666667\n"
     ]
    }
   ],
   "source": [
    "obj.divide()"
   ]
  },
  {
   "cell_type": "code",
   "execution_count": 1,
   "id": "6f2c0176-6ed4-4bcf-8f11-3403cb0651dd",
   "metadata": {},
   "outputs": [],
   "source": [
    "class a1:\n",
    "    def a01():\n",
    "        print(\"welcome to the code with pankaj\")"
   ]
  },
  {
   "cell_type": "code",
   "execution_count": 4,
   "id": "73b7de0a-9b33-418c-96d5-d09da188c108",
   "metadata": {},
   "outputs": [
    {
     "name": "stdout",
     "output_type": "stream",
     "text": [
      "welcome to the code with pankaj\n"
     ]
    }
   ],
   "source": [
    "obj=a1\n",
    "obj.a01()"
   ]
  },
  {
   "cell_type": "code",
   "execution_count": 11,
   "id": "3266372a-30d6-40a6-92c7-7d442f286b85",
   "metadata": {},
   "outputs": [],
   "source": [
    "def add():\n",
    "    print(((45+45+10)*2)/10)"
   ]
  },
  {
   "cell_type": "code",
   "execution_count": 12,
   "id": "632400bf-1305-476f-add9-f6e8756a5e5e",
   "metadata": {},
   "outputs": [
    {
     "name": "stdout",
     "output_type": "stream",
     "text": [
      "20.0\n"
     ]
    }
   ],
   "source": [
    "add()"
   ]
  },
  {
   "cell_type": "code",
   "execution_count": 16,
   "id": "4ed619ba-867b-47af-83ad-812db3e58a93",
   "metadata": {},
   "outputs": [],
   "source": [
    "def table(a):\n",
    "    print(a,\"x\",\"1\",\"=\",a*1)\n",
    "    print(a,\"x\",\"5\",\"=\",a*5)"
   ]
  },
  {
   "cell_type": "code",
   "execution_count": 17,
   "id": "a2bbd661-164b-41cb-be29-eb7e9f5ad8f1",
   "metadata": {},
   "outputs": [
    {
     "name": "stdout",
     "output_type": "stream",
     "text": [
      "2 x 1 = 2\n",
      "2 x 5 = 10\n"
     ]
    }
   ],
   "source": [
    "table(2)"
   ]
  },
  {
   "cell_type": "code",
   "execution_count": 18,
   "id": "0591a994-238f-4c66-a25e-0ce06cc9239d",
   "metadata": {},
   "outputs": [
    {
     "name": "stdout",
     "output_type": "stream",
     "text": [
      "5 x 1 = 5\n",
      "5 x 5 = 25\n"
     ]
    }
   ],
   "source": [
    "table(5)"
   ]
  },
  {
   "cell_type": "code",
   "execution_count": 20,
   "id": "b2eaeb5c-2540-4086-b396-528b7f40c8c8",
   "metadata": {},
   "outputs": [],
   "source": [
    "class bank:\n",
    "    def amount_info(amount):\n",
    "        print(amount)\n",
    "    def info():\n",
    "        print(\"hdfc\")\n"
   ]
  },
  {
   "cell_type": "code",
   "execution_count": 21,
   "id": "0ffc6a74-3066-45aa-ac12-4fc2ffa9e975",
   "metadata": {},
   "outputs": [
    {
     "name": "stdout",
     "output_type": "stream",
     "text": [
      "5000\n"
     ]
    }
   ],
   "source": [
    "b=bank\n",
    "b.amount_info(5000)\n"
   ]
  },
  {
   "cell_type": "code",
   "execution_count": 22,
   "id": "cbff659c-e206-47f8-af33-ebc8189aaeaa",
   "metadata": {},
   "outputs": [
    {
     "name": "stdout",
     "output_type": "stream",
     "text": [
      "hdfc\n"
     ]
    }
   ],
   "source": [
    "b.info()"
   ]
  },
  {
   "cell_type": "code",
   "execution_count": 5,
   "id": "fccf75be-9763-4ac5-8d8f-f06fa7cb0431",
   "metadata": {},
   "outputs": [],
   "source": [
    "class bank:\n",
    "    def bank(self):\n",
    "        print(\"Bank Name : IDFC\")\n",
    "    def amount(self,amount):\n",
    "        self.amount=amount\n",
    "        print(\"amount:-\",amount)\n",
    "    def deposit(self,deposit):\n",
    "        print(\"deposit:-\",deposit)\n",
    "        update_amount= self.amount+ deposit\n",
    "        print(\"updated balance:-\",update_amount)\n",
    "        self.amount=update_amount\n",
    "    def withdrawal(self,amount):\n",
    "        balance_amount=self.amount-amount\n",
    "        print(\"balance amount:\",balance_amount)\n",
    "        self.amount=balance_amount\n",
    "    def interest(self,rate):\n",
    "        int_amount=self.amount*rate/100\n",
    "        print(\"interest amount:-\",int_amount)\n",
    "        amt=self.amount+int_amount\n",
    "        self.amount=amt\n",
    "        print(\"interested amount:\",amt)\n",
    "        \n",
    "    def customer_info(self,name):\n",
    "        print(\"customer name:\",name)\n",
    "    def balance(self):\n",
    "        \n",
    "        print(\"balance amount:\",self.amount)\n",
    "    "
   ]
  },
  {
   "cell_type": "code",
   "execution_count": 6,
   "id": "0190ed9f-12f3-4c6c-961c-344d6e757c1e",
   "metadata": {},
   "outputs": [],
   "source": [
    "b=bank()"
   ]
  },
  {
   "cell_type": "code",
   "execution_count": 7,
   "id": "648756ff-b463-41d7-b301-252aa099a96d",
   "metadata": {},
   "outputs": [
    {
     "name": "stdout",
     "output_type": "stream",
     "text": [
      "Bank Name : IDFC\n",
      "amount:- 10000\n",
      "deposit:- 3200\n",
      "updated balance:- 13200\n",
      "balance amount: 11200\n",
      "interest amount:- 1120.0\n",
      "interested amount: 12320.0\n",
      "customer name: Aman\n",
      "balance amount: 12320.0\n"
     ]
    }
   ],
   "source": [
    "b.bank()\n",
    "b.amount(10000)\n",
    "b.deposit(3200)\n",
    "b.withdrawal(2000)\n",
    "b.interest(10)\n",
    "b.customer_info(\"Aman\")\n",
    "b.balance()"
   ]
  },
  {
   "cell_type": "code",
   "execution_count": null,
   "id": "2d0f1ccd-9d63-4d4d-9db7-e5156f1a059d",
   "metadata": {},
   "outputs": [],
   "source": []
  },
  {
   "cell_type": "code",
   "execution_count": null,
   "id": "ad2a76bf-1ef6-4da6-9d7b-ff2d99464663",
   "metadata": {},
   "outputs": [],
   "source": []
  },
  {
   "cell_type": "code",
   "execution_count": null,
   "id": "d7bfe8e8-ee63-4855-a8b1-aa2fbd530f19",
   "metadata": {},
   "outputs": [],
   "source": []
  },
  {
   "cell_type": "code",
   "execution_count": null,
   "id": "845c38f1-3a21-4380-960c-21c8936fd93d",
   "metadata": {},
   "outputs": [],
   "source": []
  }
 ],
 "metadata": {
  "kernelspec": {
   "display_name": "Python 3 (ipykernel)",
   "language": "python",
   "name": "python3"
  },
  "language_info": {
   "codemirror_mode": {
    "name": "ipython",
    "version": 3
   },
   "file_extension": ".py",
   "mimetype": "text/x-python",
   "name": "python",
   "nbconvert_exporter": "python",
   "pygments_lexer": "ipython3",
   "version": "3.12.7"
  }
 },
 "nbformat": 4,
 "nbformat_minor": 5
}

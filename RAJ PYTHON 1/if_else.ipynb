{
 "cells": [
  {
   "cell_type": "code",
   "execution_count": null,
   "id": "962bfd4a",
   "metadata": {},
   "outputs": [
    {
     "name": "stdout",
     "output_type": "stream",
     "text": [
      "e is largest\n"
     ]
    }
   ],
   "source": [
    "a,b,c,d,e =100,202,301,40,505445\n",
    "if a>b and a>c and a>d and a>e:\n",
    "    print(\"a is largest\")\n",
    "elif b>a and b>c and b>d and b>e:\n",
    "    print(\"b is largest\")\n",
    "elif c>a and c>b and c>d and c>e:\n",
    "    print(\"c is largest\")\n",
    "elif d>a and d>b and d>c and d>e:\n",
    "    print(\"d is largest\")\n",
    "elif e>a and e>b and e>c and e>d:\n",
    "    print(\"e is largest\")"
   ]
  },
  {
   "cell_type": "code",
   "execution_count": 1,
   "id": "45b6fc26",
   "metadata": {},
   "outputs": [
    {
     "name": "stdout",
     "output_type": "stream",
     "text": [
      "False\n",
      "True\n"
     ]
    }
   ],
   "source": [
    "#membership operators\n",
    "#means the word include inn the value of the assigned value\n",
    "\n",
    "name = (\"name of the person\")\n",
    "print(\"z\" in name)\n",
    "print(\"t\"  in name)"
   ]
  },
  {
   "cell_type": "code",
   "execution_count": 1,
   "id": "d34ceb1e",
   "metadata": {},
   "outputs": [
    {
     "name": "stdout",
     "output_type": "stream",
     "text": [
      "True\n",
      "False\n"
     ]
    }
   ],
   "source": [
    "#identity operators\n",
    "#identify the values are same or not\n",
    "a=454\n",
    "b=654\n",
    "print(a is not b)\n",
    "print(a is b)"
   ]
  },
  {
   "cell_type": "code",
   "execution_count": 9,
   "id": "47eed0de",
   "metadata": {},
   "outputs": [
    {
     "name": "stdout",
     "output_type": "stream",
     "text": [
      "79\n",
      "14\n",
      "124\n"
     ]
    }
   ],
   "source": [
    "#assigned operation\n",
    "a=54\n",
    "print(a+25)\n",
    "a-=40\n",
    "print(a)\n",
    "a+=50-40+100\n",
    "b=10\n",
    "print(a)"
   ]
  },
  {
   "cell_type": "code",
   "execution_count": 10,
   "id": "4a665454",
   "metadata": {},
   "outputs": [
    {
     "name": "stdout",
     "output_type": "stream",
     "text": [
      "d is smallest\n"
     ]
    }
   ],
   "source": [
    "a,b,c,d,e =100,202,301,40,505445\n",
    "if a<b and a<c and a<d and a<e:\n",
    "    print(\"a is smallest\")\n",
    "elif b<a and b<c and b<d and b<e:\n",
    "    print(\"b is smallest\")\n",
    "elif c<a and c<b and c<d and c<e:\n",
    "    print(\"c is smallest\")\n",
    "elif d<a and d<b and d<c and d<e:\n",
    "    print(\"d is smallest\")\n",
    "elif e<a and e<b and e<c and e<d:\n",
    "    print(\"e is smallest\")"
   ]
  },
  {
   "cell_type": "code",
   "execution_count": 1,
   "id": "b26f514a",
   "metadata": {},
   "outputs": [
    {
     "name": "stdout",
     "output_type": "stream",
     "text": [
      "b is smallest\n"
     ]
    }
   ],
   "source": [
    "a,b,c,d,e =100,20,301,40,50\n",
    "if a<b and a<c and a<d and a<e:\n",
    "    print(\"a is smallest\")\n",
    "elif b<a and b<c and b<d and b<e:\n",
    "    print(\"b is smallest\")\n",
    "elif c<a and c<b and c<d and c<e:\n",
    "    print(\"c is smallest\")\n",
    "elif d<a and d<b and d<c and d<e:\n",
    "    print(\"d is smallest\")\n",
    "elif e<a and e<b and e<c and e<d:\n",
    "    print(\"e is smallest\")"
   ]
  },
  {
   "cell_type": "code",
   "execution_count": 2,
   "id": "9b25a557",
   "metadata": {},
   "outputs": [
    {
     "name": "stdout",
     "output_type": "stream",
     "text": [
      "e is smallest\n"
     ]
    }
   ],
   "source": [
    "a,b,c,d,e =10,202,301,40,5\n",
    "if a<b and a<c and a<d and a<e:\n",
    "    print(\"a is smallest\")\n",
    "elif b<a and b<c and b<d and b<e:\n",
    "    print(\"b is smallest\")\n",
    "elif c<a and c<b and c<d and c<e:\n",
    "    print(\"c is smallest\")\n",
    "elif d<a and d<b and d<c and d<e:\n",
    "    print(\"d is smallest\")\n",
    "elif e<a and e<b and e<c and e<d:\n",
    "    print(\"e is smallest\")"
   ]
  },
  {
   "cell_type": "code",
   "execution_count": 4,
   "id": "3764a0b4",
   "metadata": {},
   "outputs": [
    {
     "name": "stdout",
     "output_type": "stream",
     "text": [
      "c is largest\n"
     ]
    }
   ],
   "source": [
    "a,b,c,d,e =100,202,301,40,100\n",
    "if a>b and a>c and a>d and a>e:\n",
    "    print(\"a is largest\")\n",
    "elif b>a and b>c and b>d and b>e:\n",
    "    print(\"b is largest\")\n",
    "elif c>a and c>b and c>d and c>e:\n",
    "    print(\"c is largest\")\n",
    "elif d>a and d>b and d>c and d>e:\n",
    "    print(\"d is largest\")\n",
    "elif e>a and e>b and e>c and e>d:\n",
    "    print(\"e is largest\")"
   ]
  },
  {
   "cell_type": "code",
   "execution_count": 7,
   "id": "4be56227",
   "metadata": {},
   "outputs": [
    {
     "name": "stdout",
     "output_type": "stream",
     "text": [
      "297520066128\n"
     ]
    }
   ],
   "source": [
    "a,b,c =12,15,78\n",
    "print(a-b//c+545454**2)"
   ]
  },
  {
   "cell_type": "code",
   "execution_count": 38,
   "id": "a2ec8bd3",
   "metadata": {},
   "outputs": [
    {
     "name": "stdout",
     "output_type": "stream",
     "text": [
      "15\n"
     ]
    }
   ],
   "source": [
    "def add(x=4,y=5):\n",
    "    return x+y\n",
    "print(add(10))"
   ]
  },
  {
   "cell_type": "code",
   "execution_count": 49,
   "id": "222f10c6",
   "metadata": {},
   "outputs": [
    {
     "name": "stdout",
     "output_type": "stream",
     "text": [
      "[5, 2, 7, 9]\n"
     ]
    }
   ],
   "source": [
    "number=[2,7,9]\n",
    "number.insert(0,5)\n",
    "print(number)"
   ]
  },
  {
   "cell_type": "code",
   "execution_count": 40,
   "id": "01f65296",
   "metadata": {},
   "outputs": [
    {
     "name": "stdout",
     "output_type": "stream",
     "text": [
      "[1, 2, 3, 4, 7, 8]\n"
     ]
    }
   ],
   "source": [
    "number=[1,2,3,4,56,7,8]\n",
    "number.remove(56)\n",
    "print(number)"
   ]
  },
  {
   "cell_type": "code",
   "execution_count": 43,
   "id": "dc442b64",
   "metadata": {},
   "outputs": [
    {
     "name": "stdout",
     "output_type": "stream",
     "text": [
      "[1, 5, 12]\n"
     ]
    }
   ],
   "source": [
    "number=[1,1,55,5,12]\n",
    "number.remove(55)\n",
    "number.remove(1)\n",
    "print(number)"
   ]
  },
  {
   "cell_type": "code",
   "execution_count": 50,
   "id": "b6b63c9e",
   "metadata": {},
   "outputs": [
    {
     "name": "stdout",
     "output_type": "stream",
     "text": [
      "-9840\n"
     ]
    }
   ],
   "source": [
    "k=\"120\"\n",
    "l=\"-82\"\n",
    "result=int(k)*int(l)\n",
    "print(result)"
   ]
  },
  {
   "cell_type": "code",
   "execution_count": 53,
   "id": "c438a58d",
   "metadata": {},
   "outputs": [
    {
     "name": "stdout",
     "output_type": "stream",
     "text": [
      "not divisble\n"
     ]
    }
   ],
   "source": [
    "x=12\n",
    "if x % 5==8:\n",
    "    print(\"divisble\")\n",
    "else:\n",
    "    print(\"not divisble\")"
   ]
  },
  {
   "cell_type": "code",
   "execution_count": 62,
   "id": "d6d7807a",
   "metadata": {},
   "outputs": [
    {
     "name": "stdout",
     "output_type": "stream",
     "text": [
      "a\n",
      "b\n",
      "p\n"
     ]
    }
   ],
   "source": [
    "fruits=[\"apple\",\"banana\",\"peach\"]\n",
    "for i in range(len(fruits)):\n",
    "    print(fruits[i][0])"
   ]
  },
  {
   "cell_type": "code",
   "execution_count": 74,
   "id": "7970a5c6",
   "metadata": {},
   "outputs": [
    {
     "ename": "AttributeError",
     "evalue": "'list' object has no attribute 'add'",
     "output_type": "error",
     "traceback": [
      "\u001b[31m---------------------------------------------------------------------------\u001b[39m",
      "\u001b[31mAttributeError\u001b[39m                            Traceback (most recent call last)",
      "\u001b[36mCell\u001b[39m\u001b[36m \u001b[39m\u001b[32mIn[74]\u001b[39m\u001b[32m, line 2\u001b[39m\n\u001b[32m      1\u001b[39m a=[\u001b[32m1\u001b[39m,\u001b[32m2\u001b[39m,\u001b[32m3\u001b[39m,\u001b[32m4\u001b[39m]\n\u001b[32m----> \u001b[39m\u001b[32m2\u001b[39m b= \u001b[43ma\u001b[49m\u001b[43m.\u001b[49m\u001b[43madd\u001b[49m(\u001b[32m5\u001b[39m)\n\u001b[32m      3\u001b[39m \u001b[38;5;28mprint\u001b[39m(b)\n",
      "\u001b[31mAttributeError\u001b[39m: 'list' object has no attribute 'add'"
     ]
    }
   ],
   "source": [
    "a=[1,2,3,4]\n",
    "b= a.add(5)\n",
    "print(b)"
   ]
  },
  {
   "cell_type": "code",
   "execution_count": 75,
   "id": "f119ffa9",
   "metadata": {},
   "outputs": [
    {
     "name": "stdout",
     "output_type": "stream",
     "text": [
      "10\n"
     ]
    }
   ],
   "source": [
    "total=0\n",
    "for i in range(1,5):\n",
    "    total+=i\n",
    "print(total)"
   ]
  },
  {
   "cell_type": "code",
   "execution_count": 9,
   "id": "2a90a771",
   "metadata": {},
   "outputs": [
    {
     "name": "stdout",
     "output_type": "stream",
     "text": [
      "equal\n"
     ]
    }
   ],
   "source": [
    "a,b,c,d =14,14,14,547\n",
    "if a+b==a+c:\n",
    "    print(\"equal\")\n",
    "else:\n",
    "    print(\"not equal\")"
   ]
  },
  {
   "cell_type": "code",
   "execution_count": 13,
   "id": "b94e894b",
   "metadata": {},
   "outputs": [
    {
     "name": "stdout",
     "output_type": "stream",
     "text": [
      "81\n"
     ]
    }
   ],
   "source": [
    "a=int(input(\"enter number\"))\n",
    "b=int(input(\"enter number\"))\n",
    "print(a**2+b**2+2*a*b)"
   ]
  },
  {
   "cell_type": "code",
   "execution_count": 34,
   "id": "12aae3e7",
   "metadata": {},
   "outputs": [
    {
     "name": "stdout",
     "output_type": "stream",
     "text": [
      "18\n"
     ]
    }
   ],
   "source": [
    "a={\"x\":8,\"y\":10,\"z\":10}\n",
    "print((a[\"y\"]+10) and (a[\"x\"]+10))"
   ]
  },
  {
   "cell_type": "code",
   "execution_count": 50,
   "id": "911ee4a6",
   "metadata": {},
   "outputs": [
    {
     "name": "stdout",
     "output_type": "stream",
     "text": [
      "under\n"
     ]
    }
   ],
   "source": [
    "a=\"underage\"\n",
    "b=a[5:8]\n",
    "c=a[0:5]\n",
    "\n",
    "print(c)"
   ]
  },
  {
   "cell_type": "code",
   "execution_count": 51,
   "id": "6bcaf452",
   "metadata": {},
   "outputs": [
    {
     "name": "stdout",
     "output_type": "stream",
     "text": [
      "equal\n"
     ]
    }
   ],
   "source": [
    "a=9970114444\n",
    "if a*1==a:\n",
    "    print(\"equal\")\n",
    "else:\n",
    "    print(\"not equal\")"
   ]
  },
  {
   "cell_type": "code",
   "execution_count": null,
   "id": "6946856e",
   "metadata": {},
   "outputs": [
    {
     "name": "stdout",
     "output_type": "stream",
     "text": [
      "Width (int): 25 Type: <class 'int'>\n"
     ]
    }
   ],
   "source": [
    "\n",
    "print(\"Width (int):\", width, \"Type:\", type(width))"
   ]
  },
  {
   "cell_type": "code",
   "execution_count": 4,
   "id": "63360b07",
   "metadata": {},
   "outputs": [
    {
     "name": "stdout",
     "output_type": "stream",
     "text": [
      "Rectangle area (float): 130.0\n",
      "Scaled area (complex): (390+520j)\n"
     ]
    }
   ],
   "source": [
    "height =5.2\n",
    "complex_scale = 3 + 4j\n",
    "\n",
    "area = width * height  # Integer * Float\n",
    "scaled_area = area * complex_scale  # Float * Complex\n",
    "print(\"Rectangle area (float):\", area)  # Output: Rectangle area (float): 127.75\n",
    "print(\"Scaled area (complex):\", scaled_area)"
   ]
  },
  {
   "cell_type": "code",
   "execution_count": 10,
   "id": "62fed596",
   "metadata": {},
   "outputs": [
    {
     "name": "stdout",
     "output_type": "stream",
     "text": [
      "78.57142857142857\n"
     ]
    }
   ],
   "source": [
    "r=float(input(\"enter radius\"))\n",
    "area=22/7*r**2\n",
    "print(area)\n"
   ]
  },
  {
   "cell_type": "code",
   "execution_count": null,
   "id": "03400435",
   "metadata": {},
   "outputs": [
    {
     "name": "stdout",
     "output_type": "stream",
     "text": [
      "10.0\n"
     ]
    }
   ],
   "source": [
    "#diameter\n",
    "d=2*r\n",
    "print(d)"
   ]
  },
  {
   "cell_type": "code",
   "execution_count": null,
   "id": "792eb808",
   "metadata": {},
   "outputs": [
    {
     "name": "stdout",
     "output_type": "stream",
     "text": [
      "12.571428571428571\n"
     ]
    }
   ],
   "source": [
    "#circumference\n",
    "r=float(input(\"enter radius\"))\n",
    "c=2*22/7*r\n",
    "print(c)"
   ]
  },
  {
   "cell_type": "code",
   "execution_count": null,
   "id": "503b06da",
   "metadata": {},
   "outputs": [
    {
     "name": "stdout",
     "output_type": "stream",
     "text": [
      "3.142857142857143\n"
     ]
    }
   ],
   "source": [
    "print(22/7)\n",
    "3.14159"
   ]
  },
  {
   "cell_type": "code",
   "execution_count": 18,
   "id": "8c429422",
   "metadata": {},
   "outputs": [
    {
     "name": "stdout",
     "output_type": "stream",
     "text": [
      "16.0\n"
     ]
    }
   ],
   "source": [
    "#area of rectangle\n",
    "length=float(input(\"enter length\"))\n",
    "width=float(input(\"enter width\"))\n",
    "area=length*width\n",
    "print(area)"
   ]
  },
  {
   "cell_type": "code",
   "execution_count": null,
   "id": "2f0bccba",
   "metadata": {},
   "outputs": [
    {
     "name": "stdout",
     "output_type": "stream",
     "text": [
      "5.0\n"
     ]
    }
   ],
   "source": [
    "#area of triangle\n",
    "base=float(input(\"enter base\"))\n",
    "height=float(input(\"enter height\"))\n",
    "area=1/2*base*height\n",
    "print(area)\n",
    "\n",
    "\n"
   ]
  },
  {
   "cell_type": "code",
   "execution_count": 4,
   "id": "28b93825",
   "metadata": {},
   "outputs": [
    {
     "name": "stdout",
     "output_type": "stream",
     "text": [
      "y is greater than x\n"
     ]
    }
   ],
   "source": [
    "x=101\n",
    "y=201\n",
    "if x>y:\n",
    "    print(\"x is greater than y\")\n",
    "elif y>x:\n",
    "    print(\"y is greater than x\")\n",
    "else:\n",
    "    print(\"None\")\n"
   ]
  },
  {
   "cell_type": "code",
   "execution_count": null,
   "id": "b9e25058",
   "metadata": {},
   "outputs": [],
   "source": []
  }
 ],
 "metadata": {
  "kernelspec": {
   "display_name": "Python 3",
   "language": "python",
   "name": "python3"
  },
  "language_info": {
   "codemirror_mode": {
    "name": "ipython",
    "version": 3
   },
   "file_extension": ".py",
   "mimetype": "text/x-python",
   "name": "python",
   "nbconvert_exporter": "python",
   "pygments_lexer": "ipython3",
   "version": "3.13.3"
  }
 },
 "nbformat": 4,
 "nbformat_minor": 5
}

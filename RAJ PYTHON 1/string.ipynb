{
 "cells": [
  {
   "cell_type": "code",
   "execution_count": 32,
   "id": "3d012e15-0e9e-4fe4-9dbe-e3bf2b5d714d",
   "metadata": {},
   "outputs": [],
   "source": [
    "msg=\"welcome. to the world of coding\""
   ]
  },
  {
   "cell_type": "code",
   "execution_count": 3,
   "id": "f032f1b0-2e9c-4402-8e18-218205c2d229",
   "metadata": {},
   "outputs": [
    {
     "name": "stdout",
     "output_type": "stream",
     "text": [
      "welcome to the world of coding\n"
     ]
    }
   ],
   "source": [
    "print(msg)\n"
   ]
  },
  {
   "cell_type": "code",
   "execution_count": 9,
   "id": "5bdfbde2-caf4-4398-84f0-b17b97d60809",
   "metadata": {},
   "outputs": [
    {
     "name": "stdout",
     "output_type": "stream",
     "text": [
      "welcome t\n"
     ]
    }
   ],
   "source": [
    "print(msg[0:9])"
   ]
  },
  {
   "cell_type": "code",
   "execution_count": 10,
   "id": "1f465399-fe1a-4d69-abd7-0c1a8fab3a95",
   "metadata": {},
   "outputs": [
    {
     "name": "stdout",
     "output_type": "stream",
     "text": [
      "WELCOME TO THE WORLD OF CODING\n"
     ]
    }
   ],
   "source": [
    "print(msg.upper())"
   ]
  },
  {
   "cell_type": "code",
   "execution_count": 11,
   "id": "3591da07-41e4-4d09-ae10-85ee8ed2cb15",
   "metadata": {},
   "outputs": [
    {
     "name": "stdout",
     "output_type": "stream",
     "text": [
      "welcome to the world of coding\n"
     ]
    }
   ],
   "source": [
    "print(msg.lower())"
   ]
  },
  {
   "cell_type": "code",
   "execution_count": 19,
   "id": "cee1de49-846a-457c-b308-ceb53f9e0ae5",
   "metadata": {},
   "outputs": [
    {
     "name": "stdout",
     "output_type": "stream",
     "text": [
      "('welcome to the world of coding', '', '')\n"
     ]
    }
   ],
   "source": [
    "print(msg.partition('-'))"
   ]
  },
  {
   "cell_type": "code",
   "execution_count": 21,
   "id": "a06a7a3c-c819-4ab8-b0f5-2da73a88d4d9",
   "metadata": {},
   "outputs": [
    {
     "name": "stdout",
     "output_type": "stream",
     "text": [
      "welcome to the duniya of coding\n"
     ]
    }
   ],
   "source": [
    "print(msg.replace(\"world\",\"duniya\"))"
   ]
  },
  {
   "cell_type": "code",
   "execution_count": 22,
   "id": "6bcb2736-893e-426f-91d7-20eccfbc27b9",
   "metadata": {},
   "outputs": [
    {
     "name": "stdout",
     "output_type": "stream",
     "text": [
      "8\n"
     ]
    }
   ],
   "source": [
    "print(msg.find(\"to\"))"
   ]
  },
  {
   "cell_type": "code",
   "execution_count": 26,
   "id": "1cd8b1c4-4e4c-447c-8ace-9fa61c51d591",
   "metadata": {},
   "outputs": [
    {
     "name": "stdout",
     "output_type": "stream",
     "text": [
      "4\n"
     ]
    }
   ],
   "source": [
    "print(msg.index(\"o\"))"
   ]
  },
  {
   "cell_type": "code",
   "execution_count": 27,
   "id": "8f7570a8-f755-45dc-8376-428a0cb5eac1",
   "metadata": {},
   "outputs": [
    {
     "name": "stdout",
     "output_type": "stream",
     "text": [
      "p4n.in this is website-\n"
     ]
    }
   ],
   "source": [
    "data=\"p4n.in\"\n",
    "print(data.rstrip(),\"this is website-\")"
   ]
  },
  {
   "cell_type": "code",
   "execution_count": 28,
   "id": "e8c42868-e825-4409-9926-a1cdd7a05bb0",
   "metadata": {},
   "outputs": [
    {
     "name": "stdout",
     "output_type": "stream",
     "text": [
      "welcome to the world of coding and is irritate\n"
     ]
    }
   ],
   "source": [
    "print(msg.rstrip(),\"and is irritate\")"
   ]
  },
  {
   "cell_type": "code",
   "execution_count": 34,
   "id": "5f73d604-077c-4087-9546-28b5fd461870",
   "metadata": {},
   "outputs": [
    {
     "name": "stdout",
     "output_type": "stream",
     "text": [
      "False\n"
     ]
    }
   ],
   "source": [
    "print(msg.isnumeric())"
   ]
  },
  {
   "cell_type": "code",
   "execution_count": 36,
   "id": "b11bfbe0-0646-4ccb-8da7-5cfed580fddf",
   "metadata": {},
   "outputs": [
    {
     "name": "stdout",
     "output_type": "stream",
     "text": [
      "True\n"
     ]
    }
   ],
   "source": [
    "print(msg.startswith('w'))"
   ]
  },
  {
   "cell_type": "code",
   "execution_count": null,
   "id": "8e0eecdc-955d-445b-8b1d-b0887a4db208",
   "metadata": {},
   "outputs": [],
   "source": []
  }
 ],
 "metadata": {
  "kernelspec": {
   "display_name": "Python 3 (ipykernel)",
   "language": "python",
   "name": "python3"
  },
  "language_info": {
   "codemirror_mode": {
    "name": "ipython",
    "version": 3
   },
   "file_extension": ".py",
   "mimetype": "text/x-python",
   "name": "python",
   "nbconvert_exporter": "python",
   "pygments_lexer": "ipython3",
   "version": "3.12.7"
  }
 },
 "nbformat": 4,
 "nbformat_minor": 5
}

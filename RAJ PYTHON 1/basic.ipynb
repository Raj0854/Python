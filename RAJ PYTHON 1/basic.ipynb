{
 "cells": [
  {
   "cell_type": "code",
   "execution_count": 24,
   "id": "56e4549c",
   "metadata": {},
   "outputs": [
    {
     "name": "stdout",
     "output_type": "stream",
     "text": [
      "welcome to basic\n",
      "5468\n",
      "welcome to basic\n"
     ]
    }
   ],
   "source": [
    "print(\"welcome to basic\")\n",
    "print(5468)\n",
    "print('welcome to basic')"
   ]
  },
  {
   "cell_type": "code",
   "execution_count": 25,
   "id": "ba406e9d",
   "metadata": {},
   "outputs": [
    {
     "name": "stdout",
     "output_type": "stream",
     "text": [
      "welcome\n"
     ]
    }
   ],
   "source": [
    "print(\"welcome\")"
   ]
  },
  {
   "cell_type": "code",
   "execution_count": 26,
   "id": "448c935b",
   "metadata": {},
   "outputs": [
    {
     "name": "stdout",
     "output_type": "stream",
     "text": [
      "'the demon of the hell'\n",
      "THE VENDER KNOWN\n"
     ]
    }
   ],
   "source": [
    "print(\"'the demon of the hell'\")\n",
    "print(\"THE VENDER KNOWN\")"
   ]
  },
  {
   "cell_type": "code",
   "execution_count": 27,
   "id": "a97b24de",
   "metadata": {},
   "outputs": [
    {
     "name": "stdout",
     "output_type": "stream",
     "text": [
      "65746574\n"
     ]
    }
   ],
   "source": [
    "PRINT = 65746574\n",
    "print(PRINT) \n"
   ]
  },
  {
   "cell_type": "code",
   "execution_count": 28,
   "id": "8f7d76f7",
   "metadata": {},
   "outputs": [
    {
     "name": "stdout",
     "output_type": "stream",
     "text": [
      "6549187\n"
     ]
    }
   ],
   "source": [
    "y1=6549187\n",
    "print(y1)"
   ]
  },
  {
   "cell_type": "code",
   "execution_count": 29,
   "id": "bc47cd8c",
   "metadata": {},
   "outputs": [
    {
     "name": "stdout",
     "output_type": "stream",
     "text": [
      "4986675\n",
      "9540\n",
      "16.18918918918919\n",
      "-8430\n",
      "8430\n"
     ]
    }
   ],
   "source": [
    "a=555\n",
    "b=8985\n",
    "print(a*b)\n",
    "print(a+b)\n",
    "print(b/a)\n",
    "print(a-b)\n",
    "print(b-a)"
   ]
  },
  {
   "cell_type": "code",
   "execution_count": 32,
   "id": "09117915",
   "metadata": {},
   "outputs": [
    {
     "name": "stdout",
     "output_type": "stream",
     "text": [
      "ABCDEFGHIJKLMNOPQRSTUVWXYZ\n"
     ]
    }
   ],
   "source": [
    "print(\"ABCDEFGHIJKLMNOPQRSTUVWXYZ\")"
   ]
  },
  {
   "cell_type": "code",
   "execution_count": 34,
   "id": "764e34a1",
   "metadata": {},
   "outputs": [
    {
     "name": "stdout",
     "output_type": "stream",
     "text": [
      "987654321131355\n",
      "123456789\n",
      "abcdeghijklmnopqrstuvwxyz\n"
     ]
    }
   ],
   "source": [
    "print(987654321123456+7899)\n",
    "print(123456789)\n",
    "print(\"abcdeghijklmnopqrstuvwxyz\")"
   ]
  },
  {
   "cell_type": "code",
   "execution_count": null,
   "id": "528543c1",
   "metadata": {},
   "outputs": [
    {
     "name": "stdout",
     "output_type": "stream",
     "text": [
      "439882748.5\n"
     ]
    }
   ],
   "source": [
    "print(879765497/2)"
   ]
  },
  {
   "cell_type": "code",
   "execution_count": 37,
   "id": "15cea2f1",
   "metadata": {},
   "outputs": [
    {
     "name": "stdout",
     "output_type": "stream",
     "text": [
      "<class 'builtin_function_or_method'>\n"
     ]
    }
   ],
   "source": [
    "#checktype\n",
    "#type()\n",
    "print(type(print))"
   ]
  },
  {
   "cell_type": "code",
   "execution_count": 64,
   "id": "c90ea9b8",
   "metadata": {},
   "outputs": [
    {
     "name": "stdout",
     "output_type": "stream",
     "text": [
      "107748212057.77907\n",
      "22 3 4 5 6 7 8 9 10\n",
      "1\n",
      "123.66666666666667\n"
     ]
    }
   ],
   "source": [
    "print(98774983856-765528675/86-5856989+8987986687)\n",
    "print(22,3,4,5,6,7,8,9,10)\n",
    "print(  1       )\n",
    "print(371/3)"
   ]
  },
  {
   "cell_type": "code",
   "execution_count": null,
   "id": "54f2a7ce",
   "metadata": {},
   "outputs": [],
   "source": []
  }
 ],
 "metadata": {
  "kernelspec": {
   "display_name": "Python 3",
   "language": "python",
   "name": "python3"
  },
  "language_info": {
   "codemirror_mode": {
    "name": "ipython",
    "version": 3
   },
   "file_extension": ".py",
   "mimetype": "text/x-python",
   "name": "python",
   "nbconvert_exporter": "python",
   "pygments_lexer": "ipython3",
   "version": "3.13.3"
  }
 },
 "nbformat": 4,
 "nbformat_minor": 5
}

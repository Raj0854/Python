{
 "cells": [
  {
   "cell_type": "code",
   "execution_count": 42,
   "id": "6d3a1023-2a2d-4dd9-b14b-fc002991e651",
   "metadata": {},
   "outputs": [
    {
     "name": "stdout",
     "output_type": "stream",
     "text": [
      "-------------------bill---------------------\n"
     ]
    },
    {
     "name": "stdout",
     "output_type": "stream",
     "text": [
      "Enter the product list size: 4\n",
      "enter product name:- Samosa\n",
      "enter product name:- jalebi\n",
      "enter product name:- fafda\n",
      "enter product name:- kachori\n",
      "Enter product price: 57\n",
      "Enter product price: 48\n",
      "Enter product price: 98\n",
      "Enter product price: 120\n"
     ]
    },
    {
     "name": "stdout",
     "output_type": "stream",
     "text": [
      "-----output-----\n",
      "1 Samosa = 57 /-\n",
      "2 jalebi = 48 /-\n",
      "3 fafda = 98 /-\n",
      "4 kachori = 120 /-\n",
      "-----------------\n",
      "Total amount:- 323 /-\n"
     ]
    }
   ],
   "source": [
    "#### assignment1\n",
    "print(\"-------------------bill---------------------\")\n",
    "size=int(input(\"Enter the product list size:\"))\n",
    "product=[]\n",
    "price=[]\n",
    "for i in range(size):\n",
    "    i=input(\"enter product name:-\")\n",
    "    product.append(i)\n",
    "\n",
    "for i in range(size):\n",
    "    i=int(input(\"Enter product price:\"))\n",
    "    price.append(i)\n",
    "    \n",
    "print(\"-----output-----\")\n",
    "total=0\n",
    "for i in range(size):\n",
    "    total=total+price[i]\n",
    "    print((i+1),product[i],\"=\",price[i],\"/-\")\n",
    "print(\"-----------------\")\n",
    "print(\"Total amount:-\",total,\"/-\")\n",
    "    "
   ]
  },
  {
   "cell_type": "code",
   "execution_count": 49,
   "id": "042cbf59-06b3-4fd6-a84c-5ccc2bfb4cde",
   "metadata": {},
   "outputs": [
    {
     "name": "stdout",
     "output_type": "stream",
     "text": [
      "Enter the product size 4\n",
      "Enter the product name: samosa\n",
      "Enter the product name: jalebi\n",
      "Enter the product name: fafda \n",
      "Enter the product name: kachori\n",
      "Enter the product price:- 80\n",
      "Enter the product price:- 90\n",
      "Enter the product price:- 120\n",
      "Enter the product price:- 50\n"
     ]
    },
    {
     "name": "stdout",
     "output_type": "stream",
     "text": [
      "------------------------------------------\n"
     ]
    },
    {
     "name": "stdout",
     "output_type": "stream",
     "text": [
      "Do you want to add GST[Y/N] y\n",
      "Enter the GST% 9\n"
     ]
    },
    {
     "name": "stdout",
     "output_type": "stream",
     "text": [
      "1 . samosa => 80 /-\n",
      "2 . jalebi => 90 /-\n",
      "3 . fafda  => 120 /-\n",
      "4 . kachori => 50 /-\n",
      "----------------------------\n",
      "Total amount:- 340 /-\n",
      "----------------------------\n",
      "GST: 9 %\n",
      "GST amount:- 30.6 /-\n",
      "----------------------------\n",
      "Final Total [Inclusive GST] : 370.6 /-\n"
     ]
    }
   ],
   "source": [
    "##### assignment 02(billing with tax)\n",
    "product=[]\n",
    "price=[]\n",
    "size = int(input(\"Enter the product size\"))\n",
    "for i in range (size):\n",
    "    i=input(\"Enter the product name:\")\n",
    "    product.append(i)\n",
    "for i in range(size):\n",
    "    i =int(input(\"Enter the product price:-\"))\n",
    "    price.append(i)\n",
    "print(\"------------------------------------------\")\n",
    "yes=input(\"Do you want to add GST[Y/N]\")\n",
    "if yes==\"y\" or yes==\"Y\":\n",
    "    GST=int(input(\"Enter the GST%\"))\n",
    "    total=0\n",
    "    for i in range(size):\n",
    "        total=total+price[i]\n",
    "        print(i+1,\".\",product[i],\"=>\",price[i],\"/-\")\n",
    "        gst_amount=total*GST/100\n",
    "        Total=total+gst_amount\n",
    "    print(\"----------------------------\")\n",
    "    print(\"Total amount:-\",total,\"/-\")\n",
    "    print(\"----------------------------\")\n",
    "    print(\"GST:\",GST,\"%\")\n",
    "    print(\"GST amount:-\",gst_amount,\"/-\")\n",
    "    print(\"----------------------------\")\n",
    "    print(\"Final Total [Inclusive GST] :\",Total,\"/-\")\n",
    "else:\n",
    "    total=0\n",
    "    for i in range (size):\n",
    "        total=total+price[i]\n",
    "        print((i+1),\".\",product[i],\"=>\",price[i],\"/\")\n",
    "    print(\"----------------------------\")\n",
    "    print(\"Total amount(Without GST):\",total,\"/-\")\n",
    "    print(\"----------------------------\")\n",
    "        \n",
    "        \n",
    "        "
   ]
  },
  {
   "cell_type": "code",
   "execution_count": 17,
   "id": "1c365eca-ab7a-4ab3-a209-30f3c6484a8c",
   "metadata": {},
   "outputs": [
    {
     "name": "stdin",
     "output_type": "stream",
     "text": [
      "Enter product 1 :- books\n",
      "Do You Want To Add More [y/n] y\n",
      "Enter product 2 :- vegetables\n",
      "Do You Want To Add More [y/n] y\n",
      "Enter product 3 :- grocery\n",
      "Do You Want To Add More [y/n] y\n",
      "Enter product 4 :- musical instruments\n",
      "Do You Want To Add More [y/n] n\n",
      "Enter books price => 852\n",
      "Enter vegetables price => 158\n",
      "Enter grocery price => 1500\n",
      "Enter musical instruments price => 1200\n",
      "Do you want add gst?[y/n] y\n",
      "Ente the Gst % 18\n"
     ]
    },
    {
     "name": "stdout",
     "output_type": "stream",
     "text": [
      "-----------INVOICE BILL------------\n",
      "1 . books => 852 /-\n",
      "2 . vegetables => 158 /-\n",
      "3 . grocery => 1500 /-\n",
      "4 . musical instruments => 1200 /-\n",
      "--------------------------------\n",
      "Amount before GST => 3710\n",
      "--------------------------------\n",
      "GST % => 18 %\n",
      "GST amount => 667.8 /-\n",
      "--------------------------------\n",
      "Total Amount [Inclusive GST] => 4377.8 /-\n"
     ]
    }
   ],
   "source": [
    "#assignment 3 (billing with add more products option and gst)\n",
    "product = []\n",
    "price = []\n",
    "i = input(f'Enter product 1 :-')\n",
    "product.append(i)\n",
    "for i in range(100):\n",
    "    select = input('Do You Want To Add More [y/n]')\n",
    "    if select == \"Y\" or select ==\"y\":\n",
    "        i = input(f'Enter product {i+2} :-')\n",
    "        product.append(i)\n",
    "    elif select == \"N\" or select == \"n\":\n",
    "        break\n",
    "size = len(product)\n",
    "for i in range(size):\n",
    "    i = int(input(f'Enter {product[i]} price =>'))\n",
    "    price.append(i)\n",
    "yes=input(\"Do you want add gst?[y/n]\")\n",
    "if yes == \"y\" or yes==\"Y\":\n",
    "    gst=int(input(\"Ente the Gst %\"))\n",
    "    print('-----------INVOICE BILL------------')\n",
    "    total=0\n",
    "    for i in range(size):\n",
    "        print((i+1),\".\",product[i],\"=>\",price[i],\"/-\")\n",
    "        total=total+price[i]\n",
    "        gst_amt=total*gst/100\n",
    "    print(\"--------------------------------\")\n",
    "    print('Amount before GST =>',total)\n",
    "    print(\"--------------------------------\")\n",
    "    print(\"GST %\",\"=>\",gst,\"%\")\n",
    "    print(\"GST amount\",\"=>\",gst_amt,\"/-\")\n",
    "    print(\"--------------------------------\")\n",
    "    print('Total Amount [Inclusive GST] =>',total+gst_amt,\"/-\")\n",
    "else:\n",
    "    print('-----------INVOICE BILL------------')\n",
    "    total=0\n",
    "    for i in range(size):\n",
    "        total= total+price[i]\n",
    "        print((i+1),\".\",product[i],\"=>\",price[i],\"/-\")\n",
    "    print(\"--------------------------------\")    \n",
    "    print('Total Amount [Exclusive GST] =>',total,\"/-\")"
   ]
  },
  {
   "cell_type": "code",
   "execution_count": 37,
   "id": "ee816300-4689-4d41-8e9d-39d561924d00",
   "metadata": {},
   "outputs": [
    {
     "name": "stdin",
     "output_type": "stream",
     "text": [
      "Enter product 1 =>  book\n",
      "Enter book price => 45\n",
      "Enter book Qty => 5\n",
      "Do you want to add more products [y/n] y\n",
      "Enter product 2 =>  pen\n",
      "Enter pen price => 44\n",
      "Enter pen Qty => 4\n"
     ]
    },
    {
     "ename": "IndexError",
     "evalue": "list index out of range",
     "output_type": "error",
     "traceback": [
      "\u001b[1;31m---------------------------------------------------------------------------\u001b[0m",
      "\u001b[1;31mIndexError\u001b[0m                                Traceback (most recent call last)",
      "Cell \u001b[1;32mIn[37], line 18\u001b[0m\n\u001b[0;32m     16\u001b[0m size\u001b[38;5;241m=\u001b[39m\u001b[38;5;28mlen\u001b[39m(product)\n\u001b[0;32m     17\u001b[0m \u001b[38;5;28;01mfor\u001b[39;00m i \u001b[38;5;129;01min\u001b[39;00m \u001b[38;5;28mrange\u001b[39m(size):\n\u001b[1;32m---> 18\u001b[0m     p\u001b[38;5;241m=\u001b[39m\u001b[38;5;28mint\u001b[39m(\u001b[38;5;28minput\u001b[39m(\u001b[38;5;124mf\u001b[39m\u001b[38;5;124m\"\u001b[39m\u001b[38;5;124mEnter \u001b[39m\u001b[38;5;132;01m{\u001b[39;00mproduct[(i\u001b[38;5;241m+\u001b[39m\u001b[38;5;241m1\u001b[39m)]\u001b[38;5;132;01m}\u001b[39;00m\u001b[38;5;124m price =>\u001b[39m\u001b[38;5;124m\"\u001b[39m))\n\u001b[0;32m     19\u001b[0m     price\u001b[38;5;241m.\u001b[39mappend(p)\n\u001b[0;32m     20\u001b[0m     q\u001b[38;5;241m=\u001b[39m\u001b[38;5;28mint\u001b[39m(\u001b[38;5;28minput\u001b[39m(\u001b[38;5;124mf\u001b[39m\u001b[38;5;124m\"\u001b[39m\u001b[38;5;124mEnter \u001b[39m\u001b[38;5;132;01m{\u001b[39;00mproduct[(i\u001b[38;5;241m+\u001b[39m\u001b[38;5;241m1\u001b[39m)]\u001b[38;5;132;01m}\u001b[39;00m\u001b[38;5;124m Qty =>\u001b[39m\u001b[38;5;124m\"\u001b[39m))\n",
      "\u001b[1;31mIndexError\u001b[0m: list index out of range"
     ]
    }
   ],
   "source": [
    "#super advance billing system\n",
    "product=[]\n",
    "price=[]\n",
    "qty=[]\n",
    "i=input(\"Enter product 1 => \")\n",
    "product.append(i)\n",
    "p=int(input(f\"Enter {product[0]} price =>\"))\n",
    "price.append(p)\n",
    "q=int(input(f\"Enter {product[0]} Qty =>\"))\n",
    "qty.append(q)\n",
    "for i in range(20):\n",
    "    select=input(\"Do you want to add more products [y/n]\")\n",
    "    if select==\"y\" or select==\"Y\":\n",
    "        i=input(f\"Enter product {i+2} => \")\n",
    "        product.append(i)\n",
    "        size=len(product)\n",
    "        for i in range(size):\n",
    "            p=int(input(f\"Enter {product[(i+1)]} price =>\"))\n",
    "            price.append(p)\n",
    "            q=int(input(f\"Enter {product[(i+1)]} Qty =>\"))\n",
    "            qty.append(q)"
   ]
  },
  {
   "cell_type": "code",
   "execution_count": null,
   "id": "e68504f8-9adf-4f7e-b353-0e9920b63ea3",
   "metadata": {},
   "outputs": [],
   "source": []
  }
 ],
 "metadata": {
  "kernelspec": {
   "display_name": "Python 3 (ipykernel)",
   "language": "python",
   "name": "python3"
  },
  "language_info": {
   "codemirror_mode": {
    "name": "ipython",
    "version": 3
   },
   "file_extension": ".py",
   "mimetype": "text/x-python",
   "name": "python",
   "nbconvert_exporter": "python",
   "pygments_lexer": "ipython3",
   "version": "3.12.7"
  }
 },
 "nbformat": 4,
 "nbformat_minor": 5
}

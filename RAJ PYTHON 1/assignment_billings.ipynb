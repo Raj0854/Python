{
 "cells": [
  {
   "cell_type": "code",
   "execution_count": 24,
   "id": "a16701ff-943c-4678-8451-a54ac87c246a",
   "metadata": {},
   "outputs": [
    {
     "name": "stdout",
     "output_type": "stream",
     "text": [
      "-------------------bill---------------------\n"
     ]
    },
    {
     "name": "stdin",
     "output_type": "stream",
     "text": [
      "Enter the product list size: 1\n",
      "enter product name:- samosa\n",
      "Enter product price: 100\n"
     ]
    },
    {
     "name": "stdout",
     "output_type": "stream",
     "text": [
      "-----output-----\n",
      "samosa = 100\n"
     ]
    }
   ],
   "source": [
    "#### assignment1\n",
    "print(\"-------------------bill---------------------\")\n",
    "size=int(input(\"Enter the product list size:\"))\n",
    "product=[]\n",
    "price=[]\n",
    "for i in range(size):\n",
    "    item=input(\"enter product name:-\")\n",
    "    product.append(item)\n",
    "\n",
    "for i in range(size):\n",
    "    cost=(input(\"Enter product price:\"))\n",
    "    price.append(cost)\n",
    "print(\"-----output-----\")\n",
    "for item in product:\n",
    "    print(item,\"=\",cost)\n",
    "    "
   ]
  },
  {
   "cell_type": "code",
   "execution_count": null,
   "id": "f661a1c5-967b-4a94-a2e2-741f4e416174",
   "metadata": {},
   "outputs": [],
   "source": []
  },
  {
   "cell_type": "code",
   "execution_count": null,
   "id": "3985f4f5-deeb-4400-bd4c-152e61f510e8",
   "metadata": {},
   "outputs": [],
   "source": []
  }
 ],
 "metadata": {
  "kernelspec": {
   "display_name": "Python 3 (ipykernel)",
   "language": "python",
   "name": "python3"
  },
  "language_info": {
   "codemirror_mode": {
    "name": "ipython",
    "version": 3
   },
   "file_extension": ".py",
   "mimetype": "text/x-python",
   "name": "python",
   "nbconvert_exporter": "python",
   "pygments_lexer": "ipython3",
   "version": "3.12.7"
  }
 },
 "nbformat": 4,
 "nbformat_minor": 5
}

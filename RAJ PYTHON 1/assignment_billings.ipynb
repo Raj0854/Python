{
 "cells": [
  {
   "cell_type": "code",
   "execution_count": 42,
   "id": "6d3a1023-2a2d-4dd9-b14b-fc002991e651",
   "metadata": {},
   "outputs": [
    {
     "name": "stdout",
     "output_type": "stream",
     "text": [
      "-------------------bill---------------------\n"
     ]
    },
    {
     "name": "stdout",
     "output_type": "stream",
     "text": [
      "Enter the product list size: 4\n",
      "enter product name:- Samosa\n",
      "enter product name:- jalebi\n",
      "enter product name:- fafda\n",
      "enter product name:- kachori\n",
      "Enter product price: 57\n",
      "Enter product price: 48\n",
      "Enter product price: 98\n",
      "Enter product price: 120\n"
     ]
    },
    {
     "name": "stdout",
     "output_type": "stream",
     "text": [
      "-----output-----\n",
      "1 Samosa = 57 /-\n",
      "2 jalebi = 48 /-\n",
      "3 fafda = 98 /-\n",
      "4 kachori = 120 /-\n",
      "-----------------\n",
      "Total amount:- 323 /-\n"
     ]
    }
   ],
   "source": [
    "#### assignment1\n",
    "print(\"-------------------bill---------------------\")\n",
    "size=int(input(\"Enter the product list size:\"))\n",
    "product=[]\n",
    "price=[]\n",
    "for i in range(size):\n",
    "    i=input(\"enter product name:-\")\n",
    "    product.append(i)\n",
    "\n",
    "for i in range(size):\n",
    "    i=int(input(\"Enter product price:\"))\n",
    "    price.append(i)\n",
    "    \n",
    "print(\"-----output-----\")\n",
    "total=0\n",
    "for i in range(size):\n",
    "    total=total+price[i]\n",
    "    print((i+1),product[i],\"=\",price[i],\"/-\")\n",
    "print(\"-----------------\")\n",
    "print(\"Total amount:-\",total,\"/-\")\n",
    "    "
   ]
  },
  {
   "cell_type": "code",
   "execution_count": 49,
   "id": "042cbf59-06b3-4fd6-a84c-5ccc2bfb4cde",
   "metadata": {},
   "outputs": [
    {
     "name": "stdout",
     "output_type": "stream",
     "text": [
      "Enter the product size 4\n",
      "Enter the product name: samosa\n",
      "Enter the product name: jalebi\n",
      "Enter the product name: fafda \n",
      "Enter the product name: kachori\n",
      "Enter the product price:- 80\n",
      "Enter the product price:- 90\n",
      "Enter the product price:- 120\n",
      "Enter the product price:- 50\n"
     ]
    },
    {
     "name": "stdout",
     "output_type": "stream",
     "text": [
      "------------------------------------------\n"
     ]
    },
    {
     "name": "stdout",
     "output_type": "stream",
     "text": [
      "Do you want to add GST[Y/N] y\n",
      "Enter the GST% 9\n"
     ]
    },
    {
     "name": "stdout",
     "output_type": "stream",
     "text": [
      "1 . samosa => 80 /-\n",
      "2 . jalebi => 90 /-\n",
      "3 . fafda  => 120 /-\n",
      "4 . kachori => 50 /-\n",
      "----------------------------\n",
      "Total amount:- 340 /-\n",
      "----------------------------\n",
      "GST: 9 %\n",
      "GST amount:- 30.6 /-\n",
      "----------------------------\n",
      "Final Total [Inclusive GST] : 370.6 /-\n"
     ]
    }
   ],
   "source": [
    "##### assignment 02(billing with tax)\n",
    "product=[]\n",
    "price=[]\n",
    "size = int(input(\"Enter the product size\"))\n",
    "for i in range (size):\n",
    "    i=input(\"Enter the product name:\")\n",
    "    product.append(i)\n",
    "for i in range(size):\n",
    "    i =int(input(\"Enter the product price:-\"))\n",
    "    price.append(i)\n",
    "print(\"------------------------------------------\")\n",
    "yes=input(\"Do you want to add GST[Y/N]\")\n",
    "if yes==\"y\" or yes==\"Y\":\n",
    "    GST=int(input(\"Enter the GST%\"))\n",
    "    total=0\n",
    "    for i in range(size):\n",
    "        total=total+price[i]\n",
    "        print(i+1,\".\",product[i],\"=>\",price[i],\"/-\")\n",
    "        gst_amount=total*GST/100\n",
    "        Total=total+gst_amount\n",
    "    print(\"----------------------------\")\n",
    "    print(\"Total amount:-\",total,\"/-\")\n",
    "    print(\"----------------------------\")\n",
    "    print(\"GST:\",GST,\"%\")\n",
    "    print(\"GST amount:-\",gst_amount,\"/-\")\n",
    "    print(\"----------------------------\")\n",
    "    print(\"Final Total [Inclusive GST] :\",Total,\"/-\")\n",
    "else:\n",
    "    total=0\n",
    "    for i in range (size):\n",
    "        total=total+price[i]\n",
    "        print((i+1),\".\",product[i],\"=>\",price[i],\"/\")\n",
    "    print(\"----------------------------\")\n",
    "    print(\"Total amount(Without GST):\",total,\"/-\")\n",
    "    print(\"----------------------------\")\n",
    "        \n",
    "        \n",
    "        "
   ]
  },
  {
   "cell_type": "code",
   "execution_count": 17,
   "id": "1c365eca-ab7a-4ab3-a209-30f3c6484a8c",
   "metadata": {},
   "outputs": [
    {
     "name": "stdin",
     "output_type": "stream",
     "text": [
      "Enter product 1 :- books\n",
      "Do You Want To Add More [y/n] y\n",
      "Enter product 2 :- vegetables\n",
      "Do You Want To Add More [y/n] y\n",
      "Enter product 3 :- grocery\n",
      "Do You Want To Add More [y/n] y\n",
      "Enter product 4 :- musical instruments\n",
      "Do You Want To Add More [y/n] n\n",
      "Enter books price => 852\n",
      "Enter vegetables price => 158\n",
      "Enter grocery price => 1500\n",
      "Enter musical instruments price => 1200\n",
      "Do you want add gst?[y/n] y\n",
      "Ente the Gst % 18\n"
     ]
    },
    {
     "name": "stdout",
     "output_type": "stream",
     "text": [
      "-----------INVOICE BILL------------\n",
      "1 . books => 852 /-\n",
      "2 . vegetables => 158 /-\n",
      "3 . grocery => 1500 /-\n",
      "4 . musical instruments => 1200 /-\n",
      "--------------------------------\n",
      "Amount before GST => 3710\n",
      "--------------------------------\n",
      "GST % => 18 %\n",
      "GST amount => 667.8 /-\n",
      "--------------------------------\n",
      "Total Amount [Inclusive GST] => 4377.8 /-\n"
     ]
    }
   ],
   "source": [
    "#assignment 3 (billing with add more products option and gst)\n",
    "product = []\n",
    "price = []\n",
    "i = input(f'Enter product 1 :-')\n",
    "product.append(i)\n",
    "for i in range(100):\n",
    "    select = input('Do You Want To Add More [y/n]')\n",
    "    if select == \"Y\" or select ==\"y\":\n",
    "        i = input(f'Enter product {i+2} :-')\n",
    "        product.append(i)\n",
    "    elif select == \"N\" or select == \"n\":\n",
    "        break\n",
    "size = len(product)\n",
    "for i in range(size):\n",
    "    i = int(input(f'Enter {product[i]} price =>'))\n",
    "    price.append(i)\n",
    "yes=input(\"Do you want add gst?[y/n]\")\n",
    "if yes == \"y\" or yes==\"Y\":\n",
    "    gst=int(input(\"Ente the Gst %\"))\n",
    "    print('-----------INVOICE BILL------------')\n",
    "    total=0\n",
    "    for i in range(size):\n",
    "        print((i+1),\".\",product[i],\"=>\",price[i],\"/-\")\n",
    "        total=total+price[i]\n",
    "        gst_amt=total*gst/100\n",
    "    print(\"--------------------------------\")\n",
    "    print('Amount before GST =>',total)\n",
    "    print(\"--------------------------------\")\n",
    "    print(\"GST %\",\"=>\",gst,\"%\")\n",
    "    print(\"GST amount\",\"=>\",gst_amt,\"/-\")\n",
    "    print(\"--------------------------------\")\n",
    "    print('Total Amount [Inclusive GST] =>',total+gst_amt,\"/-\")\n",
    "else:\n",
    "    print('-----------INVOICE BILL------------')\n",
    "    total=0\n",
    "    for i in range(size):\n",
    "        total= total+price[i]\n",
    "        print((i+1),\".\",product[i],\"=>\",price[i],\"/-\")\n",
    "    print(\"--------------------------------\")    \n",
    "    print('Total Amount [Exclusive GST] =>',total,\"/-\")"
   ]
  },
  {
   "cell_type": "code",
   "execution_count": 54,
   "id": "d12c472e-c1f9-49b8-bd30-7e618d9a906d",
   "metadata": {},
   "outputs": [
    {
     "name": "stdin",
     "output_type": "stream",
     "text": [
      "Enter product 1 =>  apple\n",
      "Enter apple price => 45\n",
      "Enter apple Qty => 123\n",
      "Do you want to add more products [y/n] y\n",
      "Enter product 2 =>  banna\n",
      "Enter banna price  => 90\n",
      "Enter banna Qty => 14\n",
      "Do you want to add more products [y/n] n\n",
      "Do You Want to add GST?[y/n] n\n"
     ]
    },
    {
     "name": "stdout",
     "output_type": "stream",
     "text": [
      "-----------INVOICE BILL------------\n",
      "1 . apple => 5535 /-\n",
      "2 . banna => 1260 /-\n",
      "--------------------------------\n",
      "Total Amount [Exclusive GST] => 6795 /-\n"
     ]
    }
   ],
   "source": [
    "# super advance billing system\n",
    "product=[]\n",
    "price=[]\n",
    "qty=[]\n",
    "i=input(\"Enter product 1 => \")\n",
    "product.append(i)\n",
    "p=int(input(f\"Enter {i} price =>\"))\n",
    "price.append(p)\n",
    "q=int(input(f\"Enter {i} Qty =>\"))\n",
    "qty.append(q)\n",
    "for i in range(100):\n",
    "    select=input(\"Do you want to add more products [y/n]\")\n",
    "    if select==\"y\" or select==\"Y\":\n",
    "        i=input(f\"Enter product {i+2} => \")\n",
    "        product.append(i)\n",
    "        p=int(input(f\"Enter {i} price  =>\"))\n",
    "        price.append(p)\n",
    "        q=int(input(f\"Enter {i} Qty =>\"))\n",
    "        qty.append(q)\n",
    "    else:\n",
    "        break\n",
    "size = len(product)\n",
    "GST=input(\"Do You Want to add GST?[y/n]\")\n",
    "if GST==\"y\" or GST==\"Y\":\n",
    "    gst=int(input(\"Ente the Gst %\"))\n",
    "    print('-----------INVOICE BILL------------')\n",
    "    total=0\n",
    "    for i in range(size):\n",
    "        print((i+1),\".\",product[i],\"=>\",price[i]*qty[i],\"/-\")\n",
    "        total=total+price[i]*qty[i]\n",
    "        gst_amt=total*gst/100\n",
    "    \n",
    "    print(\"--------------------------------\")\n",
    "    print('Amount before GST =>',total,\"/-\")\n",
    "    print(\"--------------------------------\")\n",
    "    print(\"GST %\",\"=>\",gst,\"%\")\n",
    "    print(\"GST amount\",\"=>\",gst_amt,\"/-\")\n",
    "    select=input(\"Do You Want to add offer?[y/n]\")\n",
    "    if select == \"Y\" or select ==\"y\":\n",
    "        print(\"Select offer:-\")\n",
    "        print(\"1.Flat 2% off\")\n",
    "        print(\"2.Flat 4% off\")\n",
    "        print(\"3.Flat 8% off\")\n",
    "        \n",
    "    \n",
    "    print(\"--------------------------------\")\n",
    "    print('Total Amount [Inclusive GST] =>',total+gst_amt,\"/-\")\n",
    "else:\n",
    "    print('-----------INVOICE BILL------------')\n",
    "    total=0\n",
    "    for i in range(size):\n",
    "        total= total+price[i]*qty[i]\n",
    "        print((i+1),\".\",product[i],\"=>\",price[i]*qty[i],\"/-\")\n",
    "    print(\"--------------------------------\")    \n",
    "    print('Total Amount [Exclusive GST] =>',total,\"/-\")"
   ]
  },
  {
   "cell_type": "code",
   "execution_count": 29,
   "id": "e68504f8-9adf-4f7e-b353-0e9920b63ea3",
   "metadata": {},
   "outputs": [
    {
     "name": "stdout",
     "output_type": "stream",
     "text": [
      "['apple', 'boxes', 'anaa']\n"
     ]
    }
   ],
   "source": [
    "print(product)"
   ]
  },
  {
   "cell_type": "code",
   "execution_count": 30,
   "id": "18be8c10-c6fe-48ed-bfd0-266d91d47780",
   "metadata": {},
   "outputs": [
    {
     "name": "stdout",
     "output_type": "stream",
     "text": [
      "[45, '85', '744']\n"
     ]
    }
   ],
   "source": [
    "print(price)"
   ]
  },
  {
   "cell_type": "code",
   "execution_count": null,
   "id": "157421de-757a-47be-b3e1-81a91a4f6480",
   "metadata": {},
   "outputs": [],
   "source": []
  }
 ],
 "metadata": {
  "kernelspec": {
   "display_name": "Python 3 (ipykernel)",
   "language": "python",
   "name": "python3"
  },
  "language_info": {
   "codemirror_mode": {
    "name": "ipython",
    "version": 3
   },
   "file_extension": ".py",
   "mimetype": "text/x-python",
   "name": "python",
   "nbconvert_exporter": "python",
   "pygments_lexer": "ipython3",
   "version": "3.12.7"
  }
 },
 "nbformat": 4,
 "nbformat_minor": 5
}

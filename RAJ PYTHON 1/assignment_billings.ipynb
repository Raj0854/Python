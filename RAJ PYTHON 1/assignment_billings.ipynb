{
 "cells": [
  {
   "cell_type": "code",
   "execution_count": 42,
   "id": "6d3a1023-2a2d-4dd9-b14b-fc002991e651",
   "metadata": {},
   "outputs": [
    {
     "name": "stdout",
     "output_type": "stream",
     "text": [
      "-------------------bill---------------------\n"
     ]
    },
    {
     "name": "stdin",
     "output_type": "stream",
     "text": [
      "Enter the product list size: 4\n",
      "enter product name:- Samosa\n",
      "enter product name:- jalebi\n",
      "enter product name:- fafda\n",
      "enter product name:- kachori\n",
      "Enter product price: 57\n",
      "Enter product price: 48\n",
      "Enter product price: 98\n",
      "Enter product price: 120\n"
     ]
    },
    {
     "name": "stdout",
     "output_type": "stream",
     "text": [
      "-----output-----\n",
      "1 Samosa = 57 /-\n",
      "2 jalebi = 48 /-\n",
      "3 fafda = 98 /-\n",
      "4 kachori = 120 /-\n",
      "-----------------\n",
      "Total amount:- 323 /-\n"
     ]
    }
   ],
   "source": [
    "#### assignment1\n",
    "print(\"-------------------bill---------------------\")\n",
    "size=int(input(\"Enter the product list size:\"))\n",
    "product=[]\n",
    "price=[]\n",
    "for i in range(size):\n",
    "    i=input(\"enter product name:-\")\n",
    "    product.append(i)\n",
    "\n",
    "for i in range(size):\n",
    "    i=int(input(\"Enter product price:\"))\n",
    "    price.append(i)\n",
    "    \n",
    "print(\"-----output-----\")\n",
    "total=0\n",
    "for i in range(size):\n",
    "    total=total+price[i]\n",
    "    print((i+1),product[i],\"=\",price[i],\"/-\")\n",
    "print(\"-----------------\")\n",
    "print(\"Total amount:-\",total,\"/-\")\n",
    "    "
   ]
  },
  {
   "cell_type": "code",
   "execution_count": 49,
   "id": "042cbf59-06b3-4fd6-a84c-5ccc2bfb4cde",
   "metadata": {},
   "outputs": [
    {
     "name": "stdin",
     "output_type": "stream",
     "text": [
      "Enter the product size 4\n",
      "Enter the product name: samosa\n",
      "Enter the product name: jalebi\n",
      "Enter the product name: fafda \n",
      "Enter the product name: kachori\n",
      "Enter the product price:- 80\n",
      "Enter the product price:- 90\n",
      "Enter the product price:- 120\n",
      "Enter the product price:- 50\n"
     ]
    },
    {
     "name": "stdout",
     "output_type": "stream",
     "text": [
      "------------------------------------------\n"
     ]
    },
    {
     "name": "stdin",
     "output_type": "stream",
     "text": [
      "Do you want to add GST[Y/N] y\n",
      "Enter the GST% 9\n"
     ]
    },
    {
     "name": "stdout",
     "output_type": "stream",
     "text": [
      "1 . samosa => 80 /-\n",
      "2 . jalebi => 90 /-\n",
      "3 . fafda  => 120 /-\n",
      "4 . kachori => 50 /-\n",
      "----------------------------\n",
      "Total amount:- 340 /-\n",
      "----------------------------\n",
      "GST: 9 %\n",
      "GST amount:- 30.6 /-\n",
      "----------------------------\n",
      "Final Total [Inclusive GST] : 370.6 /-\n"
     ]
    }
   ],
   "source": [
    "##### assignment 02(billing with tax)\n",
    "product=[]\n",
    "price=[]\n",
    "size = int(input(\"Enter the product size\"))\n",
    "for i in range (size):\n",
    "    i=input(\"Enter the product name:\")\n",
    "    product.append(i)\n",
    "for i in range(size):\n",
    "    i =int(input(\"Enter the product price:-\"))\n",
    "    price.append(i)\n",
    "print(\"------------------------------------------\")\n",
    "yes=input(\"Do you want to add GST[Y/N]\")\n",
    "if yes==\"y\" or yes==\"Y\":\n",
    "    GST=int(input(\"Enter the GST%\"))\n",
    "    total=0\n",
    "    for i in range(size):\n",
    "        total=total+price[i]\n",
    "        print(i+1,\".\",product[i],\"=>\",price[i],\"/-\")\n",
    "        gst_amount=total*GST/100\n",
    "        Total=total+gst_amount\n",
    "    print(\"----------------------------\")\n",
    "    print(\"Total amount:-\",total,\"/-\")\n",
    "    print(\"----------------------------\")\n",
    "    print(\"GST:\",GST,\"%\")\n",
    "    print(\"GST amount:-\",gst_amount,\"/-\")\n",
    "    print(\"----------------------------\")\n",
    "    print(\"Final Total [Inclusive GST] :\",Total,\"/-\")\n",
    "else:\n",
    "    total=0\n",
    "    for i in range (size):\n",
    "        total=total+price[i]\n",
    "        print((i+1),\".\",product[i],\"=>\",price[i],\"/\")\n",
    "    print(\"----------------------------\")\n",
    "    print(\"Total amount(Without GST):\",total,\"/-\")\n",
    "    print(\"----------------------------\")\n",
    "        \n",
    "        \n",
    "        "
   ]
  },
  {
   "cell_type": "code",
   "execution_count": 54,
   "id": "cce76d02-5af2-49ff-a285-a4e3e05cec21",
   "metadata": {},
   "outputs": [
    {
     "ename": "TypeError",
     "evalue": "'list' object cannot be interpreted as an integer",
     "output_type": "error",
     "traceback": [
      "\u001b[1;31m---------------------------------------------------------------------------\u001b[0m",
      "\u001b[1;31mTypeError\u001b[0m                                 Traceback (most recent call last)",
      "Cell \u001b[1;32mIn[54], line 5\u001b[0m\n\u001b[0;32m      3\u001b[0m price\u001b[38;5;241m=\u001b[39m[]\n\u001b[0;32m      4\u001b[0m size\u001b[38;5;241m=\u001b[39m[\u001b[38;5;241m1\u001b[39m]\n\u001b[1;32m----> 5\u001b[0m \u001b[38;5;28;01mfor\u001b[39;00m i \u001b[38;5;129;01min\u001b[39;00m \u001b[38;5;28mrange\u001b[39m(size):\n\u001b[0;32m      6\u001b[0m     i\u001b[38;5;241m=\u001b[39m\u001b[38;5;28mint\u001b[39m(\u001b[38;5;28minput\u001b[39m(\u001b[38;5;124m\"\u001b[39m\u001b[38;5;124mdo u wnat to add more[y/n]\u001b[39m\u001b[38;5;124m\"\u001b[39m))\n\u001b[0;32m      7\u001b[0m     \u001b[38;5;28;01mif\u001b[39;00m i\u001b[38;5;241m==\u001b[39m\u001b[38;5;124m\"\u001b[39m\u001b[38;5;124mY\u001b[39m\u001b[38;5;124m\"\u001b[39m \u001b[38;5;129;01mor\u001b[39;00m i\u001b[38;5;241m==\u001b[39m\u001b[38;5;124m\"\u001b[39m\u001b[38;5;124my\u001b[39m\u001b[38;5;124m\"\u001b[39m:\n",
      "\u001b[1;31mTypeError\u001b[0m: 'list' object cannot be interpreted as an integer"
     ]
    }
   ],
   "source": [
    "#assignment03(advance billing system)\n",
    "product=[]\n",
    "price=[]\n",
    "size=[1]\n",
    "for i in range(size):\n",
    "    i=int(input(\"do u wnat to add more[y/n]\"))\n",
    "    if i==\"Y\" or i==\"y\":\n",
    "        size.append(i)"
   ]
  },
  {
   "cell_type": "code",
   "execution_count": null,
   "id": "16688267-516c-47e5-822d-ffffaba04d5b",
   "metadata": {},
   "outputs": [],
   "source": []
  }
 ],
 "metadata": {
  "kernelspec": {
   "display_name": "Python 3 (ipykernel)",
   "language": "python",
   "name": "python3"
  },
  "language_info": {
   "codemirror_mode": {
    "name": "ipython",
    "version": 3
   },
   "file_extension": ".py",
   "mimetype": "text/x-python",
   "name": "python",
   "nbconvert_exporter": "python",
   "pygments_lexer": "ipython3",
   "version": "3.12.7"
  }
 },
 "nbformat": 4,
 "nbformat_minor": 5
}

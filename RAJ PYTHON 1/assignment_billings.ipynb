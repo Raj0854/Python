{
 "cells": [
  {
   "cell_type": "code",
   "execution_count": 42,
   "id": "6d3a1023-2a2d-4dd9-b14b-fc002991e651",
   "metadata": {},
   "outputs": [
    {
     "name": "stdout",
     "output_type": "stream",
     "text": [
      "-------------------bill---------------------\n"
     ]
    },
    {
     "name": "stdout",
     "output_type": "stream",
     "text": [
      "Enter the product list size: 4\n",
      "enter product name:- Samosa\n",
      "enter product name:- jalebi\n",
      "enter product name:- fafda\n",
      "enter product name:- kachori\n",
      "Enter product price: 57\n",
      "Enter product price: 48\n",
      "Enter product price: 98\n",
      "Enter product price: 120\n"
     ]
    },
    {
     "name": "stdout",
     "output_type": "stream",
     "text": [
      "-----output-----\n",
      "1 Samosa = 57 /-\n",
      "2 jalebi = 48 /-\n",
      "3 fafda = 98 /-\n",
      "4 kachori = 120 /-\n",
      "-----------------\n",
      "Total amount:- 323 /-\n"
     ]
    }
   ],
   "source": [
    "#### assignment1\n",
    "print(\"-------------------bill---------------------\")\n",
    "size=int(input(\"Enter the product list size:\"))\n",
    "product=[]\n",
    "price=[]\n",
    "for i in range(size):\n",
    "    i=input(\"enter product name:-\")\n",
    "    product.append(i)\n",
    "\n",
    "for i in range(size):\n",
    "    i=int(input(\"Enter product price:\"))\n",
    "    price.append(i)\n",
    "    \n",
    "print(\"-----output-----\")\n",
    "total=0\n",
    "for i in range(size):\n",
    "    total=total+price[i]\n",
    "    print((i+1),product[i],\"=\",price[i],\"/-\")\n",
    "print(\"-----------------\")\n",
    "print(\"Total amount:-\",total,\"/-\")\n",
    "    "
   ]
  },
  {
   "cell_type": "code",
   "execution_count": 49,
   "id": "042cbf59-06b3-4fd6-a84c-5ccc2bfb4cde",
   "metadata": {},
   "outputs": [
    {
     "name": "stdout",
     "output_type": "stream",
     "text": [
      "Enter the product size 4\n",
      "Enter the product name: samosa\n",
      "Enter the product name: jalebi\n",
      "Enter the product name: fafda \n",
      "Enter the product name: kachori\n",
      "Enter the product price:- 80\n",
      "Enter the product price:- 90\n",
      "Enter the product price:- 120\n",
      "Enter the product price:- 50\n"
     ]
    },
    {
     "name": "stdout",
     "output_type": "stream",
     "text": [
      "------------------------------------------\n"
     ]
    },
    {
     "name": "stdout",
     "output_type": "stream",
     "text": [
      "Do you want to add GST[Y/N] y\n",
      "Enter the GST% 9\n"
     ]
    },
    {
     "name": "stdout",
     "output_type": "stream",
     "text": [
      "1 . samosa => 80 /-\n",
      "2 . jalebi => 90 /-\n",
      "3 . fafda  => 120 /-\n",
      "4 . kachori => 50 /-\n",
      "----------------------------\n",
      "Total amount:- 340 /-\n",
      "----------------------------\n",
      "GST: 9 %\n",
      "GST amount:- 30.6 /-\n",
      "----------------------------\n",
      "Final Total [Inclusive GST] : 370.6 /-\n"
     ]
    }
   ],
   "source": [
    "##### assignment 02(billing with tax)\n",
    "product=[]\n",
    "price=[]\n",
    "size = int(input(\"Enter the product size\"))\n",
    "for i in range (size):\n",
    "    i=input(\"Enter the product name:\")\n",
    "    product.append(i)\n",
    "for i in range(size):\n",
    "    i =int(input(\"Enter the product price:-\"))\n",
    "    price.append(i)\n",
    "print(\"------------------------------------------\")\n",
    "yes=input(\"Do you want to add GST[Y/N]\")\n",
    "if yes==\"y\" or yes==\"Y\":\n",
    "    GST=int(input(\"Enter the GST%\"))\n",
    "    total=0\n",
    "    for i in range(size):\n",
    "        total=total+price[i]\n",
    "        print(i+1,\".\",product[i],\"=>\",price[i],\"/-\")\n",
    "        gst_amount=total*GST/100\n",
    "        Total=total+gst_amount\n",
    "    print(\"----------------------------\")\n",
    "    print(\"Total amount:-\",total,\"/-\")\n",
    "    print(\"----------------------------\")\n",
    "    print(\"GST:\",GST,\"%\")\n",
    "    print(\"GST amount:-\",gst_amount,\"/-\")\n",
    "    print(\"----------------------------\")\n",
    "    print(\"Final Total [Inclusive GST] :\",Total,\"/-\")\n",
    "else:\n",
    "    total=0\n",
    "    for i in range (size):\n",
    "        total=total+price[i]\n",
    "        print((i+1),\".\",product[i],\"=>\",price[i],\"/\")\n",
    "    print(\"----------------------------\")\n",
    "    print(\"Total amount(Without GST):\",total,\"/-\")\n",
    "    print(\"----------------------------\")\n",
    "        \n",
    "        \n",
    "        "
   ]
  },
  {
   "cell_type": "code",
   "execution_count": 40,
   "id": "1c365eca-ab7a-4ab3-a209-30f3c6484a8c",
   "metadata": {},
   "outputs": [
    {
     "name": "stdin",
     "output_type": "stream",
     "text": [
      "Do you want to add more [y/n] Y\n",
      "enter the number of products you want to add 1\n",
      "enter the name of the product samosa\n",
      "enter the price of the product 147\n"
     ]
    },
    {
     "name": "stdout",
     "output_type": "stream",
     "text": [
      "--------------------BILL-------------------------\n",
      "1 . samosa => 147 /-\n",
      "_______________________________\n",
      "total amount is : 147 /-\n"
     ]
    }
   ],
   "source": [
    "#assignment 03(billing advance with add more option)\n",
    "product=[]\n",
    "price=[]\n",
    "size=input(\"Do you want to add more [y/n]\")\n",
    "if size ==\"y\" or size==\"Y\":\n",
    "    size =int(input(\"enter the number of products you want to add\"))\n",
    "else:\n",
    "    size=0\n",
    "for i in range(size):\n",
    "    name=input(\"enter the name of the product\")\n",
    "    product.append(name)\n",
    "    p=int(input(\"enter the price of the product\"))\n",
    "    price.append(p)\n",
    "print(\"--------------------BILL-------------------------\")\n",
    "total=0\n",
    "for i in range(size):\n",
    "    total=total+price[i]\n",
    "    print(i+1,\".\",product[i],\"=>\",price[i],\"/-\")\n",
    "print(\"_______________________________\")\n",
    "print(\"total amount is :\",total,\"/-\")\n",
    "\n",
    "\n",
    "    \n"
   ]
  },
  {
   "cell_type": "code",
   "execution_count": null,
   "id": "d7d08f9c",
   "metadata": {},
   "outputs": [],
   "source": []
  }
 ],
 "metadata": {
  "kernelspec": {
   "display_name": "Python 3 (ipykernel)",
   "language": "python",
   "name": "python3"
  },
  "language_info": {
   "codemirror_mode": {
    "name": "ipython",
    "version": 3
   },
   "file_extension": ".py",
   "mimetype": "text/x-python",
   "name": "python",
   "nbconvert_exporter": "python",
   "pygments_lexer": "ipython3",
   "version": "3.12.7"
  }
 },
 "nbformat": 4,
 "nbformat_minor": 5
}

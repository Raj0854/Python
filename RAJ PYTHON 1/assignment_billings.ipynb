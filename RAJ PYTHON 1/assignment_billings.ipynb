{
 "cells": [
  {
   "cell_type": "code",
   "execution_count": 9,
   "id": "a16701ff-943c-4678-8451-a54ac87c246a",
   "metadata": {},
   "outputs": [
    {
     "name": "stdout",
     "output_type": "stream",
     "text": [
      "-------------------bill---------------------\n"
     ]
    },
    {
     "name": "stdin",
     "output_type": "stream",
     "text": [
      "Enter the product list size: 3\n",
      "enter product name:- apple\n",
      "enter product name:- banana\n",
      "enter product name:- cake\n",
      "Enter product price: 240\n",
      "Enter product price: 60\n",
      "Enter product price: 340\n"
     ]
    },
    {
     "name": "stdout",
     "output_type": "stream",
     "text": [
      "-----output-----\n",
      "apple = 240\n",
      "banana = 60\n",
      "cake = 340\n",
      "-----------------\n"
     ]
    }
   ],
   "source": [
    "#### assignment1\n",
    "print(\"-------------------bill---------------------\")\n",
    "size=int(input(\"Enter the product list size:\"))\n",
    "product=[]\n",
    "price=[]\n",
    "for i in range(size):\n",
    "    i=input(\"enter product name:-\")\n",
    "    product.append(i)\n",
    "\n",
    "for i in range(size):\n",
    "    i=(input(\"Enter product price:\"))\n",
    "    price.append(i)\n",
    "    \n",
    "print(\"-----output-----\")\n",
    "for i in range(size):\n",
    "    print(product[i],\"=\",price[i])\n",
    "print(\"-----------------\")\n",
    "\n",
    "    "
   ]
  },
  {
   "cell_type": "code",
   "execution_count": 27,
   "id": "1ed1f893-9bb1-4d24-802d-8b4d38ac7ede",
   "metadata": {},
   "outputs": [
    {
     "name": "stdin",
     "output_type": "stream",
     "text": [
      "Enter the list size 2\n",
      "Enter the product name:- apple\n",
      "Enter the product name:- banana\n",
      "Enter the product price:- 240\n",
      "Enter the product price:- 60\n",
      "Do you want to add GST[y/n] y\n",
      "Enter GST% 9\n"
     ]
    },
    {
     "name": "stdout",
     "output_type": "stream",
     "text": [
      "1 . apple => 240\n",
      "2 . banana => 60\n",
      "________________________\n",
      "gross bill: 300\n",
      "________________________\n",
      "GST: 9\n",
      "GST amount: 27.0\n",
      "Total amount: 327.0\n"
     ]
    }
   ],
   "source": [
    "#assignment02 (bill with gst)\n",
    "product=[]\n",
    "price=[]\n",
    "size=int(input(\"Enter the list size\"))\n",
    "for i in range(size):\n",
    "    i=input(\"Enter the product name:-\")\n",
    "    product.append(i)\n",
    "for i in range(size):\n",
    "    i=int(input(\"Enter the product price:-\"))\n",
    "    price.append(i)\n",
    "yes=input(\"Do you want to add GST[y/n]\")\n",
    "if yes==\"y\" or yes==\"Y\":\n",
    "    GST=int(input(\"Enter GST%\"))\n",
    "    total=0\n",
    "    for i in range(size):\n",
    "        total=total+price[i]\n",
    "        print(i+1,\".\",product[i],\"=>\",price[i])\n",
    "        GST_amount=total*GST/100\n",
    "        total_amount=GST_amount+total\n",
    "else:\n",
    "     for i in range(size):\n",
    "        total=total+price[i]\n",
    "        print(i+1,\".\",product[i],\"=>\",price[i])\n",
    "print(\"________________________\")\n",
    "print(\"gross bill:\",total)\n",
    "print(\"________________________\")\n",
    "print(\"GST:\",GST)\n",
    "print(\"GST amount:\",GST_amount)\n",
    "print(\"Total amount:\",total_amount)\n",
    "\n",
    "\n",
    "        \n",
    "\n",
    "    \n",
    "    \n",
    "    "
   ]
  },
  {
   "cell_type": "code",
   "execution_count": null,
   "id": "c7b6579b-9e51-448b-b244-39c7329c843f",
   "metadata": {},
   "outputs": [],
   "source": []
  },
  {
   "cell_type": "code",
   "execution_count": 29,
   "id": "acbda89e-1fc1-4d69-840b-9fea864d68e3",
   "metadata": {},
   "outputs": [
    {
     "name": "stdin",
     "output_type": "stream",
     "text": [
      "Enter the list size 2\n",
      "Enter the product name:- dsa\n",
      "Enter the product name:- da\n",
      "Enter the product price:- 101\n",
      "Enter the product price:- 11\n",
      "Do you want to add GST[y/n] n\n"
     ]
    },
    {
     "name": "stdout",
     "output_type": "stream",
     "text": [
      "1 . dsa => 101\n",
      "2 . da => 11\n",
      "________________________\n",
      "gross bill: 1252\n",
      "________________________\n",
      "GST: 9\n",
      "GST amount: 27.0\n",
      "Total amount: 327.0\n"
     ]
    }
   ],
   "source": [
    "#assignment02 (bill with gst)\n",
    "product=[]\n",
    "price=[]\n",
    "size=int(input(\"Enter the list size\"))\n",
    "for i in range(size):\n",
    "    i=input(\"Enter the product name:-\")\n",
    "    product.append(i)\n",
    "for i in range(size):\n",
    "    i=int(input(\"Enter the product price:-\"))\n",
    "    price.append(i)\n",
    "yes=input(\"Do you want to add GST[y/n]\")\n",
    "if yes==\"y\" or yes==\"Y\":\n",
    "    GST=int(input(\"Enter GST%\"))\n",
    "    total=0\n",
    "    for i in range(size):\n",
    "        total=total+price[i]\n",
    "        print(i+1,\".\",product[i],\"=>\",price[i])\n",
    "        GST_amount=total*GST/100\n",
    "        total_amount=GST_amount+total\n",
    "else:\n",
    "     for i in range(size):\n",
    "        total=total+price[i]\n",
    "        print(i+1,\".\",product[i],\"=>\",price[i])\n",
    "print(\"________________________\")\n",
    "print(\"gross bill:\",total)\n",
    "print(\"________________________\")\n",
    "print(\"GST:\",GST)\n",
    "print(\"GST amount:\",GST_amount)\n",
    "print(\"Total amount:\",total_amount)"
   ]
  },
  {
   "cell_type": "code",
   "execution_count": null,
   "id": "2b1c50d4-251b-426e-bf8a-5cded57d1ad9",
   "metadata": {},
   "outputs": [],
   "source": []
  }
 ],
 "metadata": {
  "kernelspec": {
   "display_name": "Python 3 (ipykernel)",
   "language": "python",
   "name": "python3"
  },
  "language_info": {
   "codemirror_mode": {
    "name": "ipython",
    "version": 3
   },
   "file_extension": ".py",
   "mimetype": "text/x-python",
   "name": "python",
   "nbconvert_exporter": "python",
   "pygments_lexer": "ipython3",
   "version": "3.12.7"
  }
 },
 "nbformat": 4,
 "nbformat_minor": 5
}

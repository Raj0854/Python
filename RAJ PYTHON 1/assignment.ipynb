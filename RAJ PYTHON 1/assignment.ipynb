{
 "cells": [
  {
   "cell_type": "code",
   "execution_count": null,
   "id": "b1cd5055",
   "metadata": {},
   "outputs": [],
   "source": [
    "marks=int(input(\"enter your marks\"))\n",
    "if marks 1 between 31:"
   ]
  },
  {
   "cell_type": "code",
   "execution_count": 25,
   "id": "c475b1b1",
   "metadata": {},
   "outputs": [
    {
     "name": "stdout",
     "output_type": "stream",
     "text": [
      " sum of natural number from  0 to 10 is: 55\n"
     ]
    }
   ],
   "source": [
    "#Write a Program to Calculate the Sum of Natural Numbers ?\n",
    "\n",
    "start=int(input(\"enter start number\"))\n",
    "end = int(input(\"enter end number\"))\n",
    "total=0\n",
    "for i in range(start, end):\n",
    "    total += i\n",
    "print(\" sum of natural number from \", start, \"to\", end - 1, \"is:\", total)\n",
    "    \n"
   ]
  },
  {
   "cell_type": "code",
   "execution_count": 12,
   "id": "d05f02be",
   "metadata": {},
   "outputs": [
    {
     "name": "stdout",
     "output_type": "stream",
     "text": [
      "Sum of natural numbers from 85 to 86 is: 171\n"
     ]
    }
   ],
   "source": [
    "#Write a Program to Calculate the Sum of Natural Numbers ?\n",
    "\n",
    "start = int(input(\"enter start number\"))\n",
    "end = int(input(\"enter end number\"))\n",
    "total = 0\n",
    "for i in range(start, end):\n",
    "    total += i\n",
    "print(\"Sum of natural numbers from\", start, \"to\", end - 1, \"is:\", total)\n",
    "\n"
   ]
  },
  {
   "cell_type": "code",
   "execution_count": null,
   "id": "6341f33c",
   "metadata": {},
   "outputs": [
    {
     "name": "stdout",
     "output_type": "stream",
     "text": [
      "55\n"
     ]
    }
   ],
   "source": [
    "total=0\n",
    "for i in range(0,11):\n",
    "    total+=i\n",
    "print(total)"
   ]
  },
  {
   "cell_type": "code",
   "execution_count": null,
   "id": "755fba83",
   "metadata": {},
   "outputs": [
    {
     "name": "stdout",
     "output_type": "stream",
     "text": [
      "2 x 1 = 2\n",
      "2 x 2 = 4\n",
      "2 x 3 = 6\n",
      "2 x 4 = 8\n",
      "2 x 5 = 10\n",
      "2 x 6 = 12\n",
      "2 x 7 = 14\n",
      "2 x 8 = 16\n",
      "2 x 9 = 18\n",
      "2 x 10 = 20\n"
     ]
    }
   ],
   "source": [
    "#Write a Program to Generate Multiplication Table ?\n",
    "number=int(input(\"enter number for table:\"))\n",
    "for i in range(1,11):\n",
    "    print(number,\"x\",i ,\"=\",number*i)"
   ]
  },
  {
   "cell_type": "code",
   "execution_count": null,
   "id": "8d1f1ee6",
   "metadata": {},
   "outputs": [
    {
     "name": "stdout",
     "output_type": "stream",
     "text": [
      "3 x 1 = 3\n",
      "3 x 2 = 6\n",
      "3 x 3 = 9\n",
      "3 x 4 = 12\n",
      "3 x 5 = 15\n",
      "3 x 6 = 18\n",
      "3 x 7 = 21\n",
      "3 x 8 = 24\n",
      "3 x 9 = 27\n",
      "3 x 10 = 30\n"
     ]
    }
   ],
   "source": [
    "number=int(input(\"enter number\"))\n",
    "for i in range(1,11):\n",
    "    print(number,\"x\",i,\"=\",number*i)"
   ]
  },
  {
   "cell_type": "code",
   "execution_count": 6,
   "id": "a8bcb6f4",
   "metadata": {},
   "outputs": [
    {
     "name": "stdout",
     "output_type": "stream",
     "text": [
      "the count of alphabets is: 7\n"
     ]
    }
   ],
   "source": [
    "#Write a Program to Display count of Alphabets in to String\n",
    "word = input(\"enter the word\")\n",
    "print(\"the count of alphabets is:\",len(word))"
   ]
  },
  {
   "cell_type": "code",
   "execution_count": 11,
   "id": "baa9a2f1",
   "metadata": {},
   "outputs": [
    {
     "name": "stdout",
     "output_type": "stream",
     "text": [
      "the count of digits is: 2\n"
     ]
    }
   ],
   "source": [
    "#Write a Program to Count Number of Digits in an Integer\n",
    "number=int(input(\"enter the number\"))\n",
    "number = str(number)\n",
    "print(\"the count of digits is:\",len(number))"
   ]
  },
  {
   "cell_type": "code",
   "execution_count": null,
   "id": "393b392c",
   "metadata": {},
   "outputs": [
    {
     "name": "stdout",
     "output_type": "stream",
     "text": [
      "<reversed object at 0x00000137152694E0>\n"
     ]
    }
   ],
   "source": []
  }
 ],
 "metadata": {
  "kernelspec": {
   "display_name": "Python 3",
   "language": "python",
   "name": "python3"
  },
  "language_info": {
   "codemirror_mode": {
    "name": "ipython",
    "version": 3
   },
   "file_extension": ".py",
   "mimetype": "text/x-python",
   "name": "python",
   "nbconvert_exporter": "python",
   "pygments_lexer": "ipython3",
   "version": "3.13.3"
  }
 },
 "nbformat": 4,
 "nbformat_minor": 5
}

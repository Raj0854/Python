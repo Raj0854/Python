{
 "cells": [
  {
   "cell_type": "code",
   "execution_count": 8,
   "id": "0d644a98-c73f-4cdf-8aaa-fe17c27c5cb3",
   "metadata": {},
   "outputs": [],
   "source": [
    "import threading\n",
    "import time\n",
    "\n",
    "def task1():\n",
    "    for i in range(5):\n",
    "        print(\"welcome to the coding\",i)\n",
    "        time.sleep(1)\n",
    "def task2():\n",
    "    for i in range(5):\n",
    "        print(\"code with altaf \",i)\n",
    "        time.sleep(5)"
   ]
  },
  {
   "cell_type": "code",
   "execution_count": 9,
   "id": "67ff1541-4b97-4ba4-bcef-0ece0aa977cd",
   "metadata": {},
   "outputs": [
    {
     "name": "stdout",
     "output_type": "stream",
     "text": [
      "welcome to the coding 0\n",
      "welcome to the coding 1\n",
      "welcome to the coding 2\n",
      "welcome to the coding 3\n",
      "welcome to the coding 4\n",
      "code with altaf  0\n",
      "code with altaf  1\n",
      "code with altaf  2\n",
      "code with altaf  3\n",
      "code with altaf  4\n"
     ]
    }
   ],
   "source": [
    "task1()\n",
    "task2()"
   ]
  },
  {
   "cell_type": "code",
   "execution_count": null,
   "id": "87a3ee7c-086f-4664-b1d8-691eea98aeb0",
   "metadata": {},
   "outputs": [],
   "source": [
    "\n"
   ]
  }
 ],
 "metadata": {
  "kernelspec": {
   "display_name": "Python 3 (ipykernel)",
   "language": "python",
   "name": "python3"
  },
  "language_info": {
   "codemirror_mode": {
    "name": "ipython",
    "version": 3
   },
   "file_extension": ".py",
   "mimetype": "text/x-python",
   "name": "python",
   "nbconvert_exporter": "python",
   "pygments_lexer": "ipython3",
   "version": "3.12.7"
  }
 },
 "nbformat": 4,
 "nbformat_minor": 5
}

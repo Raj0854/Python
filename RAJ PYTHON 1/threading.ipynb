{
 "cells": [
  {
   "cell_type": "code",
   "execution_count": 7,
   "id": "0d644a98-c73f-4cdf-8aaa-fe17c27c5cb3",
   "metadata": {},
   "outputs": [
    {
     "name": "stdout",
     "output_type": "stream",
     "text": [
      "welcome to the coding 0\n",
      "code with altaf  0\n",
      "welcome to the coding 1\n",
      "welcome to the coding 2\n",
      "welcome to the coding 3\n",
      "welcome to the coding 4\n",
      "code with altaf  1\n",
      "code with altaf  2\n",
      "code with altaf  3\n",
      "code with altaf  4\n",
      "all done\n"
     ]
    }
   ],
   "source": [
    "import threading\n",
    "import time\n",
    "\n",
    "def task1():\n",
    "    for i in range(5):\n",
    "        print(\"welcome to the coding\",i)\n",
    "        time.sleep(1)\n",
    "def task2():\n",
    "    for i in range(5):\n",
    "        print(\"code with altaf \",i)\n",
    "        time.sleep(5)\n",
    "\n",
    "t1= threading.Thread(target=task1)\n",
    "t2= threading.Thread(target=task2)\n",
    "\n",
    "t1.start()\n",
    "t2.start()\n",
    "\n",
    "t1.join()\n",
    "t2.join()\n",
    "\n",
    "print(\"all done\")\n"
   ]
  },
  {
   "cell_type": "code",
   "execution_count": 18,
   "id": "87a3ee7c-086f-4664-b1d8-691eea98aeb0",
   "metadata": {},
   "outputs": [
    {
     "name": "stdout",
     "output_type": "stream",
     "text": [
      "single threads programs has started\n",
      "Task 1 started\n",
      "task 1 finished\n",
      "Task 2 started\n",
      "task 2 finished\n",
      "single threads programs has completed\n"
     ]
    }
   ],
   "source": [
    "def task1():\n",
    "    print(\"Task 1 started\")\n",
    "    time.sleep(2)\n",
    "    print(\"task 1 finished\")\n",
    "\n",
    "def task2():\n",
    "    print(\"Task 2 started\")\n",
    "    time.sleep(1)\n",
    "    print(\"task 2 finished\")\n",
    "\n",
    "def main():\n",
    "    print(\"single threads programs has started\")\n",
    "    task1()\n",
    "    task2()\n",
    "    print(\"single threads programs has completed\")\n",
    "\n",
    "if __name__ == \"__main__\":\n",
    "    main()\n",
    "    \n",
    "    \n",
    "    "
   ]
  },
  {
   "cell_type": "code",
   "execution_count": 22,
   "id": "7159ebb0-b7ce-400b-978c-21449aa76efc",
   "metadata": {},
   "outputs": [
    {
     "name": "stdout",
     "output_type": "stream",
     "text": [
      "thread 1 ........... 0\n",
      "thread 1 ........... 1\n",
      "thread 1 ........... 2\n",
      "thread 1 ........... 3\n",
      "thread 1 ........... 4\n",
      "thread 1 ........... 5\n",
      "thread 1 ........... 6\n",
      "thread 1 ........... 7\n",
      "thread 1 ........... 8\n",
      "thread 1 ........... 9\n"
     ]
    }
   ],
   "source": [
    "from threading import Thread\n",
    "import time\n",
    "\n",
    "class threading1():\n",
    "    def run():\n",
    "        for i in range(10):\n",
    "            print(\"thread 1 ...........\",i)\n",
    "            time.sleep(1)\n",
    "\n",
    "obj=threading1\n",
    "obj.run()\n",
    "    "
   ]
  }
 ],
 "metadata": {
  "kernelspec": {
   "display_name": "Python 3 (ipykernel)",
   "language": "python",
   "name": "python3"
  },
  "language_info": {
   "codemirror_mode": {
    "name": "ipython",
    "version": 3
   },
   "file_extension": ".py",
   "mimetype": "text/x-python",
   "name": "python",
   "nbconvert_exporter": "python",
   "pygments_lexer": "ipython3",
   "version": "3.12.7"
  }
 },
 "nbformat": 4,
 "nbformat_minor": 5
}

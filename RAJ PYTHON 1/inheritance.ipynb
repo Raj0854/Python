{
 "cells": [
  {
   "cell_type": "code",
   "execution_count": 11,
   "id": "8819d71a-342a-41b6-9026-7a989da1088d",
   "metadata": {},
   "outputs": [],
   "source": [
    "class Client:\n",
    "    def client_info():\n",
    "        print(\"Client Name : Rahul\")"
   ]
  },
  {
   "cell_type": "code",
   "execution_count": 14,
   "id": "7c0b58b9-9770-4817-9551-9f50600ce520",
   "metadata": {},
   "outputs": [],
   "source": [
    "class Product(Client):\n",
    "    def product_info():\n",
    "        print(\"Product Name : books\")"
   ]
  },
  {
   "cell_type": "code",
   "execution_count": 15,
   "id": "4e8dbd27-cfee-42af-a384-482364d82ad5",
   "metadata": {},
   "outputs": [
    {
     "name": "stdout",
     "output_type": "stream",
     "text": [
      "Client Name : Rahul\n",
      "Product Name : books\n"
     ]
    }
   ],
   "source": [
    "object = Product\n",
    "object.client_info()\n",
    "object.product_info()"
   ]
  },
  {
   "cell_type": "code",
   "execution_count": null,
   "id": "92a8a70f-4f77-42b2-a28b-38a5c925a5fe",
   "metadata": {},
   "outputs": [],
   "source": []
  },
  {
   "cell_type": "code",
   "execution_count": null,
   "id": "9972c27a-c5dd-4442-97b3-c1126a7f2c84",
   "metadata": {},
   "outputs": [],
   "source": []
  }
 ],
 "metadata": {
  "kernelspec": {
   "display_name": "Python 3 (ipykernel)",
   "language": "python",
   "name": "python3"
  },
  "language_info": {
   "codemirror_mode": {
    "name": "ipython",
    "version": 3
   },
   "file_extension": ".py",
   "mimetype": "text/x-python",
   "name": "python",
   "nbconvert_exporter": "python",
   "pygments_lexer": "ipython3",
   "version": "3.12.7"
  }
 },
 "nbformat": 4,
 "nbformat_minor": 5
}

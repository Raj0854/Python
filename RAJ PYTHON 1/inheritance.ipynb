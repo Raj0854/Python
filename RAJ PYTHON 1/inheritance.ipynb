{
 "cells": [
  {
   "cell_type": "code",
   "execution_count": 11,
   "id": "8819d71a-342a-41b6-9026-7a989da1088d",
   "metadata": {},
   "outputs": [],
   "source": [
    "class Client:\n",
    "    def client_info():\n",
    "        print(\"Client Name : Rahul\")"
   ]
  },
  {
   "cell_type": "code",
   "execution_count": 14,
   "id": "7c0b58b9-9770-4817-9551-9f50600ce520",
   "metadata": {},
   "outputs": [],
   "source": [
    "class Product(Client):\n",
    "    def product_info():\n",
    "        print(\"Product Name : books\")"
   ]
  },
  {
   "cell_type": "code",
   "execution_count": 15,
   "id": "4e8dbd27-cfee-42af-a384-482364d82ad5",
   "metadata": {},
   "outputs": [
    {
     "name": "stdout",
     "output_type": "stream",
     "text": [
      "Client Name : Rahul\n",
      "Product Name : books\n"
     ]
    }
   ],
   "source": [
    "object = Product\n",
    "object.client_info()\n",
    "object.product_info()"
   ]
  },
  {
   "cell_type": "code",
   "execution_count": 2,
   "id": "92a8a70f-4f77-42b2-a28b-38a5c925a5fe",
   "metadata": {},
   "outputs": [],
   "source": [
    "class school:\n",
    "    def school_info():\n",
    "        print(\"KEERTI INSTITUTE OF COMPUTER\")"
   ]
  },
  {
   "cell_type": "code",
   "execution_count": 6,
   "id": "9972c27a-c5dd-4442-97b3-c1126a7f2c84",
   "metadata": {},
   "outputs": [],
   "source": [
    "#merging two classes in one into\n",
    "\n",
    "class branch(school):\n",
    "    def branch_info():\n",
    "        print(\"borivali west\")"
   ]
  },
  {
   "cell_type": "code",
   "execution_count": 7,
   "id": "43c806dc-d204-43b2-bccb-2cb74567dfe2",
   "metadata": {},
   "outputs": [
    {
     "name": "stdout",
     "output_type": "stream",
     "text": [
      "KEERTI INSTITUTE OF COMPUTER\n",
      "borivali west\n"
     ]
    }
   ],
   "source": [
    "obj=branch\n",
    "obj.school_info()\n",
    "obj.branch_info()"
   ]
  },
  {
   "cell_type": "code",
   "execution_count": null,
   "id": "a4cec4e0-930e-40be-ab8c-516065fb83a2",
   "metadata": {},
   "outputs": [],
   "source": []
  },
  {
   "cell_type": "code",
   "execution_count": null,
   "id": "feac9eef-3d41-4e5f-b302-a246b540d219",
   "metadata": {},
   "outputs": [],
   "source": []
  }
 ],
 "metadata": {
  "kernelspec": {
   "display_name": "Python 3 (ipykernel)",
   "language": "python",
   "name": "python3"
  },
  "language_info": {
   "codemirror_mode": {
    "name": "ipython",
    "version": 3
   },
   "file_extension": ".py",
   "mimetype": "text/x-python",
   "name": "python",
   "nbconvert_exporter": "python",
   "pygments_lexer": "ipython3",
   "version": "3.12.7"
  }
 },
 "nbformat": 4,
 "nbformat_minor": 5
}

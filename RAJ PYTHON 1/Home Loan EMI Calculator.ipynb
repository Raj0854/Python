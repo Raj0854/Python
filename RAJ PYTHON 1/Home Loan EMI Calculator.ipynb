{
 "cells": [
  {
   "cell_type": "code",
   "execution_count": 22,
   "id": "cceabcb8-daa9-4b04-bb46-b83c2ae01f33",
   "metadata": {},
   "outputs": [
    {
     "name": "stdin",
     "output_type": "stream",
     "text": [
      "Enter Loan Amount (₹) :- 18000000\n",
      "Enter Tenure (Years) :- 10\n",
      "Enter Interest (% P.A) :- 9.5\n"
     ]
    },
    {
     "name": "stdout",
     "output_type": "stream",
     "text": [
      "---------------------------------------------------------\n",
      "Monthly Emi payable (₹) :- 232915.60360940028 /-\n",
      "Principal Amount (₹) :- 18000000.0 /-\n",
      "Rate of Interest (% P.A) :- 9.5 %\n",
      "Interest Amount (₹) :- 1710000.0 /-\n",
      "Tenure of loan (In months) :- 120.0 Months\n",
      "Total Amount Payable (₹) :- 19710000.0\n",
      "---------------------------------------------------------\n"
     ]
    }
   ],
   "source": [
    "Loan_Amount=float(input(\"Enter Loan Amount (₹) :-\"))\n",
    "Tenure=float(input(\"Enter Tenure (Years) :-\"))\n",
    "Interest=float(input(\"Enter Interest (% P.A) :-\"))\n",
    "P=Loan_Amount\n",
    "R=Interest/12/100\n",
    "rate=P*Interest/100\n",
    "N=Tenure*12\n",
    "monthly_emi=P*R*(1+R)**N/((1+R)**N-1)\n",
    "print(\"---------------------------------------------------------\")\n",
    "print(\"Monthly Emi payable (₹) :-\",monthly_emi,\"/-\")\n",
    "print(\"Principal Amount (₹) :-\",P,\"/-\")\n",
    "print('Rate of Interest (% P.A) :-',Interest,\"%\")\n",
    "print('Interest Amount (₹) :-',rate,\"/-\")\n",
    "print('Tenure of loan (In months) :-',N,\"Months\")\n",
    "print(\"Total Amount Payable (₹) :-\",P+rate)\n",
    "print(\"---------------------------------------------------------\")\n"
   ]
  },
  {
   "cell_type": "code",
   "execution_count": null,
   "id": "a34637bd-0ef0-4bb0-a28c-ff0b4b95f815",
   "metadata": {},
   "outputs": [],
   "source": []
  }
 ],
 "metadata": {
  "kernelspec": {
   "display_name": "Python 3 (ipykernel)",
   "language": "python",
   "name": "python3"
  },
  "language_info": {
   "codemirror_mode": {
    "name": "ipython",
    "version": 3
   },
   "file_extension": ".py",
   "mimetype": "text/x-python",
   "name": "python",
   "nbconvert_exporter": "python",
   "pygments_lexer": "ipython3",
   "version": "3.12.7"
  }
 },
 "nbformat": 4,
 "nbformat_minor": 5
}

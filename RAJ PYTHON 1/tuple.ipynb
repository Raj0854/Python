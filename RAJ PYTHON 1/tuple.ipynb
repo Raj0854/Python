{
 "cells": [
  {
   "cell_type": "code",
   "execution_count": 12,
   "id": "d960a26b-d08c-4608-b031-54728bd93ed4",
   "metadata": {},
   "outputs": [],
   "source": [
    "std=(1,2,3,4,5,6,7,8,9,9,9,9,9,9,9)"
   ]
  },
  {
   "cell_type": "code",
   "execution_count": 13,
   "id": "d7c1b490-e8c5-4e17-a230-c89d612ff073",
   "metadata": {},
   "outputs": [
    {
     "name": "stdout",
     "output_type": "stream",
     "text": [
      "<class 'tuple'>\n",
      "(1, 2, 3, 4, 5, 6, 7, 8, 9, 9, 9, 9, 9, 9, 9)\n"
     ]
    }
   ],
   "source": [
    "print(type(std))\n",
    "print(std)"
   ]
  },
  {
   "cell_type": "code",
   "execution_count": 14,
   "id": "392d044b-a49a-4440-ac57-e6fbe34b6b62",
   "metadata": {},
   "outputs": [
    {
     "data": {
      "text/plain": [
       "7"
      ]
     },
     "execution_count": 14,
     "metadata": {},
     "output_type": "execute_result"
    }
   ],
   "source": [
    "std.count(9)"
   ]
  },
  {
   "cell_type": "code",
   "execution_count": 17,
   "id": "f8a57766-9beb-4285-9f0d-61820fbba604",
   "metadata": {},
   "outputs": [
    {
     "name": "stdout",
     "output_type": "stream",
     "text": [
      "2\n"
     ]
    }
   ],
   "source": [
    "print(std.index(3))"
   ]
  },
  {
   "cell_type": "code",
   "execution_count": 18,
   "id": "3ba55b11-9a3e-47f7-a4af-32bff13506d5",
   "metadata": {},
   "outputs": [
    {
     "name": "stdout",
     "output_type": "stream",
     "text": [
      "(2, 3)\n"
     ]
    }
   ],
   "source": [
    "print(std[1:3])"
   ]
  },
  {
   "cell_type": "code",
   "execution_count": 19,
   "id": "71f31ad8-8f8c-44c3-be8e-bebb8c55b1e4",
   "metadata": {},
   "outputs": [
    {
     "name": "stdout",
     "output_type": "stream",
     "text": [
      "(1, 2)\n"
     ]
    }
   ],
   "source": [
    "print(std[:2])"
   ]
  },
  {
   "cell_type": "code",
   "execution_count": null,
   "id": "c0db00e5-502b-4dc2-9791-f883ac661a54",
   "metadata": {},
   "outputs": [],
   "source": []
  }
 ],
 "metadata": {
  "kernelspec": {
   "display_name": "Python 3 (ipykernel)",
   "language": "python",
   "name": "python3"
  },
  "language_info": {
   "codemirror_mode": {
    "name": "ipython",
    "version": 3
   },
   "file_extension": ".py",
   "mimetype": "text/x-python",
   "name": "python",
   "nbconvert_exporter": "python",
   "pygments_lexer": "ipython3",
   "version": "3.12.7"
  }
 },
 "nbformat": 4,
 "nbformat_minor": 5
}

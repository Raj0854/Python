{
 "cells": [
  {
   "cell_type": "code",
   "execution_count": 2,
   "id": "e0b3fcdf-73ca-40f6-9f24-fe63bb0da66b",
   "metadata": {},
   "outputs": [],
   "source": [
    "int_list={1,2,3,4,5,6}"
   ]
  },
  {
   "cell_type": "code",
   "execution_count": 4,
   "id": "1ae5bbbe-feed-4ac8-b586-1529966dd01f",
   "metadata": {},
   "outputs": [],
   "source": [
    "float_list={1.12,1.2,13,0.41,325,1.565}"
   ]
  },
  {
   "cell_type": "code",
   "execution_count": 23,
   "id": "146ade83-1caa-4806-82f8-29b1ccdb84bc",
   "metadata": {},
   "outputs": [
    {
     "name": "stdout",
     "output_type": "stream",
     "text": [
      "{'altaf,aftab,alaam,ashwin,kalluwa'}\n"
     ]
    }
   ],
   "source": [
    "print(animal_list)"
   ]
  },
  {
   "cell_type": "code",
   "execution_count": 18,
   "id": "37f9a432-1f3b-4279-a859-21659fe185e9",
   "metadata": {},
   "outputs": [
    {
     "name": "stdout",
     "output_type": "stream",
     "text": [
      "['apple', 'banana', 'cherry', 'date', 'elderberry']\n"
     ]
    }
   ],
   "source": [
    "print(string_list)"
   ]
  },
  {
   "cell_type": "code",
   "execution_count": 19,
   "id": "63ab6748-3bc8-46d9-8e17-b58bbb87b53b",
   "metadata": {},
   "outputs": [],
   "source": [
    "string_list = [\"apple\", \"banana\", \"cherry\", \"date\", \"elderberry\"]"
   ]
  },
  {
   "cell_type": "code",
   "execution_count": 20,
   "id": "da5f7efa-e12d-4f89-b295-393e15779f57",
   "metadata": {},
   "outputs": [],
   "source": [
    "birds_list={\"pigeaoin,ydyu,dfhue,fejh\"}"
   ]
  },
  {
   "cell_type": "code",
   "execution_count": 21,
   "id": "6d53fb92-8cdc-4ec8-a7dc-6d16f480a85d",
   "metadata": {},
   "outputs": [
    {
     "name": "stdout",
     "output_type": "stream",
     "text": [
      "{'pigeaoin,ydyu,dfhue,fejh'}\n"
     ]
    }
   ],
   "source": [
    "print(birds_list)"
   ]
  },
  {
   "cell_type": "code",
   "execution_count": 24,
   "id": "0a4550ed-b466-4e1c-a798-3078e53783fb",
   "metadata": {},
   "outputs": [],
   "source": [
    "animal_list={\"altaf,aftab,alaam,ashwin,kalluwa\"}"
   ]
  },
  {
   "cell_type": "code",
   "execution_count": 25,
   "id": "d99ed5a2-5be4-434f-8f36-a44a58985d62",
   "metadata": {},
   "outputs": [],
   "source": [
    "info_list={\"aman\",101,\"c -wing, road no.\",14}"
   ]
  },
  {
   "cell_type": "code",
   "execution_count": 27,
   "id": "19ceca56-c28b-46ca-8ea5-a556f679a739",
   "metadata": {},
   "outputs": [
    {
     "name": "stdout",
     "output_type": "stream",
     "text": [
      "{'c -wing, road no.', 'aman', 101, 14}\n"
     ]
    }
   ],
   "source": [
    "print(info_list)"
   ]
  },
  {
   "cell_type": "code",
   "execution_count": 28,
   "id": "6e370fb9-8ba5-45aa-ab74-3de09fa663fc",
   "metadata": {},
   "outputs": [],
   "source": [
    "#accesing the datd from the sets"
   ]
  },
  {
   "cell_type": "code",
   "execution_count": 44,
   "id": "1cc4cf81-30ed-4905-91e8-72974ef880f9",
   "metadata": {},
   "outputs": [],
   "source": [
    "name=[\"aman\",\"atul\",\"abhay\",\"avinash\",\"ashutosh\",\"shankar\"]"
   ]
  },
  {
   "cell_type": "code",
   "execution_count": 48,
   "id": "2b3e0180-cc82-413b-8f78-c3c6aa155737",
   "metadata": {},
   "outputs": [
    {
     "name": "stdout",
     "output_type": "stream",
     "text": [
      "atul\n"
     ]
    }
   ],
   "source": [
    "print(name[1])"
   ]
  },
  {
   "cell_type": "code",
   "execution_count": 46,
   "id": "ff997f90-49ec-4f20-995b-855472c6e67e",
   "metadata": {},
   "outputs": [],
   "source": [
    "data=[1,2,3,4,5,6,5]"
   ]
  },
  {
   "cell_type": "code",
   "execution_count": 47,
   "id": "40607363-114d-4096-a580-eface4af2cf0",
   "metadata": {},
   "outputs": [
    {
     "name": "stdout",
     "output_type": "stream",
     "text": [
      "[1, 2]\n"
     ]
    }
   ],
   "source": [
    "print(data[:2])"
   ]
  },
  {
   "cell_type": "code",
   "execution_count": 50,
   "id": "5fea3045-eee8-4c5d-b58a-acd32b73e9a0",
   "metadata": {},
   "outputs": [
    {
     "name": "stdout",
     "output_type": "stream",
     "text": [
      "[2, 3, 4]\n"
     ]
    }
   ],
   "source": [
    "print(data[1:4])"
   ]
  },
  {
   "cell_type": "code",
   "execution_count": 52,
   "id": "d83c892c-eb55-4164-b4b1-9efa9374f185",
   "metadata": {},
   "outputs": [],
   "source": [
    "data.insert(6,88)"
   ]
  },
  {
   "cell_type": "code",
   "execution_count": 53,
   "id": "43aa87bb-ca85-4409-ba22-a6a5eafc35ce",
   "metadata": {},
   "outputs": [
    {
     "name": "stdout",
     "output_type": "stream",
     "text": [
      "[1, 2, 3, 4, 5, 6, 88, 5]\n"
     ]
    }
   ],
   "source": [
    "print(data)"
   ]
  },
  {
   "cell_type": "code",
   "execution_count": 56,
   "id": "31c52288-12b8-47d2-a415-3d481e09c78b",
   "metadata": {},
   "outputs": [],
   "source": [
    "data.remove(2)"
   ]
  },
  {
   "cell_type": "code",
   "execution_count": 57,
   "id": "4c70cddb-ba5b-4b19-9dbf-2515d67e7b46",
   "metadata": {},
   "outputs": [
    {
     "name": "stdout",
     "output_type": "stream",
     "text": [
      "[1, 3, 4, 6, 88, 5]\n"
     ]
    }
   ],
   "source": [
    "print(data)"
   ]
  },
  {
   "cell_type": "code",
   "execution_count": null,
   "id": "63e2e75d-206d-42e5-8aa1-8a3fe66ec517",
   "metadata": {},
   "outputs": [],
   "source": [
    "#extending the set"
   ]
  },
  {
   "cell_type": "code",
   "execution_count": 58,
   "id": "cfb413d0-17df-404b-85d4-f1e52d29cade",
   "metadata": {},
   "outputs": [],
   "source": [
    "new_data=[101,100,99,98,97,96,95,94]"
   ]
  },
  {
   "cell_type": "code",
   "execution_count": 59,
   "id": "fdf2faf0-6656-4405-a703-51f37cac9894",
   "metadata": {},
   "outputs": [],
   "source": [
    "data.extend(new_data)"
   ]
  },
  {
   "cell_type": "code",
   "execution_count": 60,
   "id": "f6baa96d-b457-4a0d-bd84-912614c29044",
   "metadata": {},
   "outputs": [
    {
     "name": "stdout",
     "output_type": "stream",
     "text": [
      "[1, 3, 4, 6, 88, 5, 101, 100, 99, 98, 97, 96, 95, 94]\n"
     ]
    }
   ],
   "source": [
    "print(data)"
   ]
  },
  {
   "cell_type": "code",
   "execution_count": 61,
   "id": "15220c98-87c5-4eb3-ac99-802138c9d8a3",
   "metadata": {},
   "outputs": [],
   "source": [
    "#appending the sets"
   ]
  },
  {
   "cell_type": "code",
   "execution_count": 62,
   "id": "05c51e37-08dc-404c-baf4-e33704f66e0c",
   "metadata": {},
   "outputs": [],
   "source": [
    "data.append(5445)"
   ]
  },
  {
   "cell_type": "code",
   "execution_count": 63,
   "id": "6cc16084-ff9a-4258-9568-5fa9ef3d9577",
   "metadata": {},
   "outputs": [
    {
     "name": "stdout",
     "output_type": "stream",
     "text": [
      "[1, 3, 4, 6, 88, 5, 101, 100, 99, 98, 97, 96, 95, 94, 5445]\n"
     ]
    }
   ],
   "source": [
    "print(data)"
   ]
  },
  {
   "cell_type": "code",
   "execution_count": 64,
   "id": "c683c139-c36a-4839-b2b1-5500632fef51",
   "metadata": {},
   "outputs": [],
   "source": [
    "a=[999,888,777,666,555,44,3]"
   ]
  },
  {
   "cell_type": "code",
   "execution_count": 65,
   "id": "9270527b-405a-4ff4-a310-93551118f55a",
   "metadata": {},
   "outputs": [],
   "source": [
    "data.insert(0,a)"
   ]
  },
  {
   "cell_type": "code",
   "execution_count": 66,
   "id": "28c5a327-18b9-4890-b9ef-15923b1b3c55",
   "metadata": {},
   "outputs": [
    {
     "name": "stdout",
     "output_type": "stream",
     "text": [
      "[[999, 888, 777, 666, 555, 44, 3], 1, 3, 4, 6, 88, 5, 101, 100, 99, 98, 97, 96, 95, 94, 5445]\n"
     ]
    }
   ],
   "source": [
    "print(data)"
   ]
  },
  {
   "cell_type": "code",
   "execution_count": 67,
   "id": "98fdf820-638f-48cf-9111-b699dd0be61f",
   "metadata": {},
   "outputs": [],
   "source": [
    "data.remove(a)"
   ]
  },
  {
   "cell_type": "code",
   "execution_count": 68,
   "id": "c1a9f8e4-758b-485c-9960-1a267f74c388",
   "metadata": {},
   "outputs": [
    {
     "name": "stdout",
     "output_type": "stream",
     "text": [
      "[1, 3, 4, 6, 88, 5, 101, 100, 99, 98, 97, 96, 95, 94, 5445]\n"
     ]
    }
   ],
   "source": [
    "print(data)"
   ]
  },
  {
   "cell_type": "code",
   "execution_count": 69,
   "id": "a83566c2-f748-4fb6-a9fb-5deb65d0c871",
   "metadata": {},
   "outputs": [],
   "source": [
    "#popping the elments"
   ]
  },
  {
   "cell_type": "code",
   "execution_count": 78,
   "id": "637de4fe-f163-4899-9cc3-66b629d71a35",
   "metadata": {},
   "outputs": [
    {
     "data": {
      "text/plain": [
       "100"
      ]
     },
     "execution_count": 78,
     "metadata": {},
     "output_type": "execute_result"
    }
   ],
   "source": [
    "data.pop()"
   ]
  },
  {
   "cell_type": "code",
   "execution_count": 79,
   "id": "c14b98b3-878f-4472-9559-1a98e0f5a88c",
   "metadata": {},
   "outputs": [
    {
     "name": "stdout",
     "output_type": "stream",
     "text": [
      "[1, 3, 4, 6, 88, 5, 101]\n"
     ]
    }
   ],
   "source": [
    "print(data)"
   ]
  },
  {
   "cell_type": "code",
   "execution_count": 80,
   "id": "b313092c-24d5-41bb-8149-54d4b4609351",
   "metadata": {},
   "outputs": [],
   "source": [
    "total_sum=sum(data)"
   ]
  },
  {
   "cell_type": "code",
   "execution_count": 81,
   "id": "7061ca17-4f08-4222-a1d2-4db45c589529",
   "metadata": {},
   "outputs": [
    {
     "name": "stdout",
     "output_type": "stream",
     "text": [
      "the sum of data set is: 208\n"
     ]
    }
   ],
   "source": [
    "print(\"the sum of data set is:\",total_sum)"
   ]
  },
  {
   "cell_type": "code",
   "execution_count": 82,
   "id": "3513aa09-0703-4a77-89e9-70b7367e2caf",
   "metadata": {},
   "outputs": [],
   "source": [
    "min=min(data)"
   ]
  },
  {
   "cell_type": "code",
   "execution_count": 83,
   "id": "98a327cc-d27c-4ed7-9d74-e29e59957100",
   "metadata": {},
   "outputs": [],
   "source": [
    "max =max(data)"
   ]
  },
  {
   "cell_type": "code",
   "execution_count": 84,
   "id": "fae03041-d485-415f-9e6b-da55533c3079",
   "metadata": {},
   "outputs": [],
   "source": [
    "len =len(data)"
   ]
  },
  {
   "cell_type": "code",
   "execution_count": 86,
   "id": "282bf2f4-e1e1-47e7-8a31-fc258ec5d506",
   "metadata": {},
   "outputs": [
    {
     "name": "stdout",
     "output_type": "stream",
     "text": [
      "min value of data set: 1\n",
      "max value of data set: 101\n",
      "length of data set: 7\n"
     ]
    }
   ],
   "source": [
    "print(\"min value of data set:\",min)\n",
    "print(\"max value of data set:\",max)\n",
    "print(\"length of data set:\",len)"
   ]
  },
  {
   "cell_type": "code",
   "execution_count": 87,
   "id": "6b88e5ae-179e-4fd5-9905-e078074abefe",
   "metadata": {},
   "outputs": [],
   "source": [
    "data.sort()"
   ]
  },
  {
   "cell_type": "code",
   "execution_count": 88,
   "id": "f7c6638c-ce90-4b03-a925-e6e38fa1dd5b",
   "metadata": {},
   "outputs": [
    {
     "name": "stdout",
     "output_type": "stream",
     "text": [
      "shorted list : [1, 3, 4, 5, 6, 88, 101]\n"
     ]
    }
   ],
   "source": [
    "print(\"shorted list :\",data)"
   ]
  },
  {
   "cell_type": "code",
   "execution_count": 91,
   "id": "48178d42-8ef9-4ba3-b59e-a307495ed520",
   "metadata": {},
   "outputs": [],
   "source": [
    "data.reverse()\n"
   ]
  },
  {
   "cell_type": "code",
   "execution_count": 93,
   "id": "7da52bcb-f58e-4dd8-8159-cd708e4dd614",
   "metadata": {},
   "outputs": [
    {
     "name": "stdout",
     "output_type": "stream",
     "text": [
      "reversed list : [1, 3, 4, 5, 6, 88, 101]\n"
     ]
    }
   ],
   "source": [
    "print(\"reversed list :\",data)"
   ]
  },
  {
   "cell_type": "code",
   "execution_count": 94,
   "id": "92e9cc93-69a0-4781-accc-c79bbab009a3",
   "metadata": {},
   "outputs": [
    {
     "name": "stdout",
     "output_type": "stream",
     "text": [
      "1\n",
      "3\n",
      "4\n",
      "5\n",
      "6\n",
      "88\n",
      "101\n"
     ]
    }
   ],
   "source": [
    "for i in data:\n",
    "    print(i)"
   ]
  },
  {
   "cell_type": "code",
   "execution_count": 95,
   "id": "c72830cc-b4c7-466f-8873-de630dc20f5b",
   "metadata": {},
   "outputs": [
    {
     "name": "stdout",
     "output_type": "stream",
     "text": [
      "1,3,4,5,6,88,101,"
     ]
    }
   ],
   "source": [
    "for i in data:\n",
    "    print(i,end=\",\")"
   ]
  },
  {
   "cell_type": "code",
   "execution_count": 96,
   "id": "1b708928-ad68-4c8c-ae26-3cc303818b60",
   "metadata": {},
   "outputs": [],
   "source": [
    "#how to take user input in the list"
   ]
  },
  {
   "cell_type": "code",
   "execution_count": 103,
   "id": "32affdc4-266b-46d1-b2ba-88d40b9a325e",
   "metadata": {},
   "outputs": [
    {
     "name": "stdin",
     "output_type": "stream",
     "text": [
      "enter the size of the list: 3\n",
      "enter the item name: bread\n",
      "enter the item name: samosa\n",
      "enter the item name: idli\n"
     ]
    },
    {
     "name": "stdout",
     "output_type": "stream",
     "text": [
      "bread\n",
      "samosa\n",
      "idli\n"
     ]
    }
   ],
   "source": [
    "size=int(input(\"enter the size of the list:\"))\n",
    "food=[]\n",
    "for i in range(size):\n",
    "    item=input(\"enter the item name:\")\n",
    "    food.append(item)\n",
    "\n",
    "for item in food:\n",
    "    print(item)"
   ]
  },
  {
   "cell_type": "code",
   "execution_count": null,
   "id": "71d7a033-9ced-49b7-a4b9-ea19ec8e871f",
   "metadata": {},
   "outputs": [],
   "source": []
  }
 ],
 "metadata": {
  "kernelspec": {
   "display_name": "Python 3 (ipykernel)",
   "language": "python",
   "name": "python3"
  },
  "language_info": {
   "codemirror_mode": {
    "name": "ipython",
    "version": 3
   },
   "file_extension": ".py",
   "mimetype": "text/x-python",
   "name": "python",
   "nbconvert_exporter": "python",
   "pygments_lexer": "ipython3",
   "version": "3.12.7"
  }
 },
 "nbformat": 4,
 "nbformat_minor": 5
}

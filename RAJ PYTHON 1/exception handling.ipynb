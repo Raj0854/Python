{
 "cells": [
  {
   "cell_type": "code",
   "execution_count": 8,
   "id": "a2a332cc-89b4-46ed-8fa3-3cd3723c898f",
   "metadata": {},
   "outputs": [
    {
     "name": "stdin",
     "output_type": "stream",
     "text": [
      "Enter your name ashish\n",
      "Enter your age 19\n",
      "Enter your height 4.5\n"
     ]
    },
    {
     "name": "stdout",
     "output_type": "stream",
     "text": [
      "My name is ashish,age is 19 and height is 4.5\n"
     ]
    }
   ],
   "source": [
    "name=input('Enter your name')\n",
    "age = int(input(\"Enter your age\"))\n",
    "height=float(input(\"Enter your height\"))\n",
    "print(f'My name is {name},age is {age} and height is {height}')\n",
    "\n"
   ]
  },
  {
   "cell_type": "code",
   "execution_count": 12,
   "id": "1d1da927-c30a-4314-bde3-c079fd5444e9",
   "metadata": {},
   "outputs": [
    {
     "name": "stdin",
     "output_type": "stream",
     "text": [
      "Enter your name ashwin\n",
      "Enter your age 19\n",
      "Enter your height dfv\n"
     ]
    },
    {
     "name": "stdout",
     "output_type": "stream",
     "text": [
      "Enter the valid details\n"
     ]
    }
   ],
   "source": [
    "#errors replacing to the info of the error\n",
    "try:\n",
    "    name=str(input('Enter your name'))\n",
    "\n",
    "    \n",
    "    age = int(input(\"Enter your age\"))\n",
    "    height=float(input(\"Enter your height\"))\n",
    "    print(f'My name is {name},age is {age} and height is {height}')\n",
    "except Exception:\n",
    "    print(\"Enter the valid details\")\n",
    "    "
   ]
  },
  {
   "cell_type": "code",
   "execution_count": null,
   "id": "0c98abfb-35f1-4076-9dbb-5098f0f4c49b",
   "metadata": {},
   "outputs": [],
   "source": []
  }
 ],
 "metadata": {
  "kernelspec": {
   "display_name": "Python 3 (ipykernel)",
   "language": "python",
   "name": "python3"
  },
  "language_info": {
   "codemirror_mode": {
    "name": "ipython",
    "version": 3
   },
   "file_extension": ".py",
   "mimetype": "text/x-python",
   "name": "python",
   "nbconvert_exporter": "python",
   "pygments_lexer": "ipython3",
   "version": "3.12.7"
  }
 },
 "nbformat": 4,
 "nbformat_minor": 5
}

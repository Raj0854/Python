{
 "cells": [
  {
   "cell_type": "code",
   "execution_count": 1,
   "id": "411a3433-8942-4080-ac47-d0a96a5a16c1",
   "metadata": {},
   "outputs": [],
   "source": [
    "#dictionary\n",
    "data={\"name\":\"Rohit\",\"age\":37,\"city\":\"borivali\"}"
   ]
  },
  {
   "cell_type": "code",
   "execution_count": 2,
   "id": "4aa82baa-3f79-4d45-a77e-575b404af83d",
   "metadata": {},
   "outputs": [
    {
     "name": "stdout",
     "output_type": "stream",
     "text": [
      "{'name': 'Rohit', 'age': 37, 'city': 'borivali'}\n"
     ]
    }
   ],
   "source": [
    "print(data)\n"
   ]
  },
  {
   "cell_type": "code",
   "execution_count": 5,
   "id": "3bb53703-d2f7-44ae-b4bc-65abb58ff4da",
   "metadata": {},
   "outputs": [
    {
     "name": "stdout",
     "output_type": "stream",
     "text": [
      "Rohit\n"
     ]
    }
   ],
   "source": [
    "print(data[\"name\"])"
   ]
  },
  {
   "cell_type": "code",
   "execution_count": 10,
   "id": "4248c825-1bfc-428f-9745-a2bfdad09e02",
   "metadata": {},
   "outputs": [
    {
     "name": "stdout",
     "output_type": "stream",
     "text": [
      "Rohit ['age']\n"
     ]
    }
   ],
   "source": [
    "print(data[\"name\"],[\"age\"])"
   ]
  },
  {
   "cell_type": "code",
   "execution_count": 11,
   "id": "a01f9dc0-9f5d-479c-8522-539220033a53",
   "metadata": {},
   "outputs": [
    {
     "name": "stdout",
     "output_type": "stream",
     "text": [
      "37\n"
     ]
    }
   ],
   "source": [
    "print(data[\"age\"])"
   ]
  },
  {
   "cell_type": "code",
   "execution_count": 20,
   "id": "8d65fd16-7261-446f-af3d-8326a66903fd",
   "metadata": {},
   "outputs": [],
   "source": [
    "data[\"weight\"]=87"
   ]
  },
  {
   "cell_type": "code",
   "execution_count": 21,
   "id": "30e6afb6-78f0-4914-bea0-6c9c86f6e4de",
   "metadata": {},
   "outputs": [
    {
     "name": "stdout",
     "output_type": "stream",
     "text": [
      "{'name': 'Rohit', 'age': 37, 'city': 'borivali', 'weight': 87}\n"
     ]
    }
   ],
   "source": [
    "print(data)"
   ]
  },
  {
   "cell_type": "code",
   "execution_count": 22,
   "id": "579c6a07-6f4d-497d-af2a-9a47a437a010",
   "metadata": {},
   "outputs": [
    {
     "name": "stdout",
     "output_type": "stream",
     "text": [
      "name = Rohit\n",
      "age = 37\n",
      "city = borivali\n",
      "weight = 87\n"
     ]
    }
   ],
   "source": [
    "for i in data:\n",
    "    print(i,\"=\",data[i])"
   ]
  },
  {
   "cell_type": "code",
   "execution_count": null,
   "id": "3fc45a6b-e387-49f7-84eb-05929cea81cb",
   "metadata": {},
   "outputs": [],
   "source": []
  }
 ],
 "metadata": {
  "kernelspec": {
   "display_name": "Python 3 (ipykernel)",
   "language": "python",
   "name": "python3"
  },
  "language_info": {
   "codemirror_mode": {
    "name": "ipython",
    "version": 3
   },
   "file_extension": ".py",
   "mimetype": "text/x-python",
   "name": "python",
   "nbconvert_exporter": "python",
   "pygments_lexer": "ipython3",
   "version": "3.12.7"
  }
 },
 "nbformat": 4,
 "nbformat_minor": 5
}

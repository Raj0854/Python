{
 "cells": [
  {
   "cell_type": "code",
   "execution_count": 1,
   "id": "dc2c48cb-1755-4802-bacb-1afa08645bd5",
   "metadata": {},
   "outputs": [
    {
     "name": "stdout",
     "output_type": "stream",
     "text": [
      "welcome to anaconda\n",
      "this is very complex\n"
     ]
    }
   ],
   "source": [
    "def greet():\n",
    "    print(\"welcome to anaconda\")\n",
    "    print(\"this is very complex\")\n",
    "greet()\n"
   ]
  },
  {
   "cell_type": "code",
   "execution_count": 2,
   "id": "232c5ae6-b62c-4e5e-bb2d-9249dd9f9c2a",
   "metadata": {},
   "outputs": [
    {
     "name": "stdout",
     "output_type": "stream",
     "text": [
      "result is: 277\n"
     ]
    }
   ],
   "source": [
    "def addition(num1,num2):\n",
    "    result=num1+num2\n",
    "    print(\"result is:\",result)\n",
    "addition(252,25)"
   ]
  },
  {
   "cell_type": "code",
   "execution_count": 4,
   "id": "33d8e8e9-5112-403c-9831-dbcad5bb2246",
   "metadata": {},
   "outputs": [
    {
     "name": "stdout",
     "output_type": "stream",
     "text": [
      "qwertyuiopasdfghjklzxcvbnm,ertyui\n",
      "result is: 99\n"
     ]
    }
   ],
   "source": [
    "def m():\n",
    "    print(\"qwertyuiopasdfghjklzxcvbnm,ertyui\")\n",
    "m()\n",
    "addition(45,54)\n"
   ]
  },
  {
   "cell_type": "code",
   "execution_count": 7,
   "id": "0ab32734-1a78-4993-bc55-6610857d2520",
   "metadata": {},
   "outputs": [
    {
     "name": "stdout",
     "output_type": "stream",
     "text": [
      "result is: 769\n"
     ]
    }
   ],
   "source": [
    "def subtract(number1,number2):\n",
    "    sub=number1-number2\n",
    "    print(\"result is:\",sub)\n",
    "subtract(854,85)"
   ]
  },
  {
   "cell_type": "code",
   "execution_count": 8,
   "id": "d3b757b1-f85b-4987-919c-78f774a8562a",
   "metadata": {},
   "outputs": [
    {
     "name": "stdout",
     "output_type": "stream",
     "text": [
      "result is: 1000\n",
      "result is: 998\n"
     ]
    }
   ],
   "source": [
    "addition(999,1)\n",
    "subtract(999,1)"
   ]
  },
  {
   "cell_type": "code",
   "execution_count": 11,
   "id": "2951afc7-45b5-4281-98e6-a0408900acd2",
   "metadata": {},
   "outputs": [],
   "source": [
    "def add(number,number1):\n",
    "    add=number +number1\n",
    "    print(\"add:\",add)"
   ]
  },
  {
   "cell_type": "code",
   "execution_count": 12,
   "id": "3ddd48b7-cf1e-4612-bfbe-be0e06810345",
   "metadata": {},
   "outputs": [
    {
     "name": "stdout",
     "output_type": "stream",
     "text": [
      "add: 117\n"
     ]
    }
   ],
   "source": [
    "add(63,54)"
   ]
  },
  {
   "cell_type": "code",
   "execution_count": 13,
   "id": "199c2499-6ecc-4b4c-883f-46cf84b510b4",
   "metadata": {},
   "outputs": [],
   "source": [
    "def bill(price,gst):\n",
    "    tax_amount=price*gst/100\n",
    "    total=price+tax_amount\n",
    "    print(\"------invoice bill-------\")\n",
    "    print(\"price:\",price)\n",
    "    print(\"gst:\",gst)\n",
    "    print(\"tax amount:\",tax_amount)\n",
    "    print(\"total:\",total)"
   ]
  },
  {
   "cell_type": "code",
   "execution_count": 14,
   "id": "cf7b1623-d1d1-44f9-b466-56e260bde068",
   "metadata": {},
   "outputs": [
    {
     "name": "stdout",
     "output_type": "stream",
     "text": [
      "------invoice bill-------\n",
      "price: 1920\n",
      "gst: 18\n",
      "tax amount: 345.6\n",
      "total: 2265.6\n"
     ]
    }
   ],
   "source": [
    "bill(1920,18)\n"
   ]
  },
  {
   "cell_type": "code",
   "execution_count": 15,
   "id": "5a102caa-eced-42db-864b-30aea93fca7e",
   "metadata": {},
   "outputs": [
    {
     "name": "stdout",
     "output_type": "stream",
     "text": [
      "------invoice bill-------\n",
      "price: 445487\n",
      "gst: 9\n",
      "tax amount: 40093.83\n",
      "total: 485580.83\n",
      "------invoice bill-------\n",
      "price: 87285\n",
      "gst: 18\n",
      "tax amount: 15711.3\n",
      "total: 102996.3\n"
     ]
    }
   ],
   "source": [
    "bill(445487,9)\n",
    "bill(87285,18)"
   ]
  },
  {
   "cell_type": "code",
   "execution_count": 16,
   "id": "049b956e-dc57-4a4a-8a4f-fbb63c056866",
   "metadata": {},
   "outputs": [
    {
     "name": "stdout",
     "output_type": "stream",
     "text": [
      "number is : 80\n"
     ]
    }
   ],
   "source": [
    "def get_number():\n",
    "    return 10*8\n",
    "number=get_number()\n",
    "print(\"number is :\",number)"
   ]
  },
  {
   "cell_type": "code",
   "execution_count": 18,
   "id": "8ca3c759-48b8-43f3-92c5-cc235d5e92cb",
   "metadata": {},
   "outputs": [
    {
     "name": "stdout",
     "output_type": "stream",
     "text": [
      "result os multiplication is: 510\n"
     ]
    }
   ],
   "source": [
    "def mutliply(number1,num2):\n",
    "    return number1*num2\n",
    "result=mutliply(51,10)\n",
    "print(\"result os multiplication is:\",result)"
   ]
  },
  {
   "cell_type": "code",
   "execution_count": 34,
   "id": "6899602c-1004-4d76-ae34-edbf20739961",
   "metadata": {},
   "outputs": [
    {
     "name": "stdout",
     "output_type": "stream",
     "text": [
      "-----------invoice bill------------\n",
      "price: 1200\n",
      "tax: 18\n",
      "tax amount: 216.0\n",
      "total price before discount is: 1416.0\n",
      "total price after discount is: 1132.8\n",
      "-----------invoice bill------------\n",
      "price: 1800\n",
      "tax: 9\n",
      "tax amount: 162.0\n"
     ]
    },
    {
     "data": {
      "text/plain": [
       "1962.0"
      ]
     },
     "execution_count": 34,
     "metadata": {},
     "output_type": "execute_result"
    }
   ],
   "source": [
    "def MRP(price,tax):\n",
    "    tax_amount=price*tax/100\n",
    "    total=price+tax_amount\n",
    "    print(\"-----------invoice bill------------\")\n",
    "    print(\"price:\",price)\n",
    "    print(\"tax:\",tax)\n",
    "    print(\"tax amount:\",tax_amount)\n",
    "    return total\n",
    "total_price=MRP(1200,18)\n",
    "print(\"total price before discount is:\",total_price)\n",
    "total_price-= total_price*0.20\n",
    "print(\"total price after discount is:\",total_price)\n",
    "\n",
    "MRP(1800,9)"
   ]
  }
 ],
 "metadata": {
  "kernelspec": {
   "display_name": "Python 3 (ipykernel)",
   "language": "python",
   "name": "python3"
  },
  "language_info": {
   "codemirror_mode": {
    "name": "ipython",
    "version": 3
   },
   "file_extension": ".py",
   "mimetype": "text/x-python",
   "name": "python",
   "nbconvert_exporter": "python",
   "pygments_lexer": "ipython3",
   "version": "3.12.7"
  }
 },
 "nbformat": 4,
 "nbformat_minor": 5
}

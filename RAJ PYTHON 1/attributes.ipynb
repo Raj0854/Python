{
 "cells": [
  {
   "cell_type": "code",
   "execution_count": 85,
   "id": "0d6d03e6-65d7-4dbb-8243-62cb8926750c",
   "metadata": {},
   "outputs": [],
   "source": [
    "class bank:\n",
    "    def account(self):\n",
    "        print(\"Bank Name => SBI\")\n",
    "    def amount(self,amount):\n",
    "        self.amount=amount\n",
    "        print (\"account balance=>\",amount)\n",
    "    def update(self,update):\n",
    "        print(\"amount:-\",update)\n",
    "        updated= self.amount+update\n",
    "        print(\"new balance:-\",updated)\n",
    "        self.amount=updated\n",
    "        "
   ]
  },
  {
   "cell_type": "code",
   "execution_count": 86,
   "id": "dc83010c-3af4-47a2-a4cc-a18fd8831321",
   "metadata": {},
   "outputs": [],
   "source": [
    "b=bank()\n"
   ]
  },
  {
   "cell_type": "code",
   "execution_count": 87,
   "id": "18c5248c-7a47-4a37-aa8b-89db8bb6078c",
   "metadata": {},
   "outputs": [
    {
     "name": "stdout",
     "output_type": "stream",
     "text": [
      "Bank Name => SBI\n",
      "account balance=> 12000\n",
      "amount:- 10000\n",
      "new balance:- 22000\n"
     ]
    }
   ],
   "source": [
    "b.account()\n",
    "b.amount(12000)\n",
    "b.update(10000)"
   ]
  },
  {
   "cell_type": "code",
   "execution_count": null,
   "id": "d43497d8-f510-4b2a-a6f2-d476802c3965",
   "metadata": {},
   "outputs": [],
   "source": []
  },
  {
   "cell_type": "code",
   "execution_count": null,
   "id": "44714142-3d0e-46d0-b13b-ce3d0b737732",
   "metadata": {},
   "outputs": [],
   "source": []
  },
  {
   "cell_type": "code",
   "execution_count": null,
   "id": "48977ce3-657b-4602-a114-838f5e0fd72b",
   "metadata": {},
   "outputs": [],
   "source": []
  }
 ],
 "metadata": {
  "kernelspec": {
   "display_name": "Python 3 (ipykernel)",
   "language": "python",
   "name": "python3"
  },
  "language_info": {
   "codemirror_mode": {
    "name": "ipython",
    "version": 3
   },
   "file_extension": ".py",
   "mimetype": "text/x-python",
   "name": "python",
   "nbconvert_exporter": "python",
   "pygments_lexer": "ipython3",
   "version": "3.12.7"
  }
 },
 "nbformat": 4,
 "nbformat_minor": 5
}

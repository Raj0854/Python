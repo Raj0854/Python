{
 "cells": [
  {
   "cell_type": "code",
   "execution_count": 32,
   "id": "88b03175",
   "metadata": {},
   "outputs": [
    {
     "data": {
      "text/plain": [
       "80"
      ]
     },
     "execution_count": 32,
     "metadata": {},
     "output_type": "execute_result"
    }
   ],
   "source": [
    "a,b,c=10,25,45\n",
    "sum([a,b,c])"
   ]
  },
  {
   "cell_type": "code",
   "execution_count": 12,
   "id": "ddca6778",
   "metadata": {},
   "outputs": [
    {
     "name": "stdout",
     "output_type": "stream",
     "text": [
      "7\n"
     ]
    }
   ],
   "source": [
    "web = \"website\"\n",
    "print(len(web))"
   ]
  },
  {
   "cell_type": "code",
   "execution_count": 19,
   "id": "18bac606",
   "metadata": {},
   "outputs": [
    {
     "name": "stdout",
     "output_type": "stream",
     "text": [
      "10\n",
      "332\n",
      "8144\n"
     ]
    }
   ],
   "source": [
    "print(min(10,12,14))\n",
    "print(max(332,23,6,255))\n",
    "print(abs(8144))"
   ]
  },
  {
   "cell_type": "code",
   "execution_count": 34,
   "id": "b90c4fb7",
   "metadata": {},
   "outputs": [
    {
     "data": {
      "text/plain": [
       "109"
      ]
     },
     "execution_count": 34,
     "metadata": {},
     "output_type": "execute_result"
    }
   ],
   "source": [
    "sum((10,1,1,14,58,21,4))"
   ]
  },
  {
   "cell_type": "code",
   "execution_count": 36,
   "id": "9cc012e8",
   "metadata": {},
   "outputs": [
    {
     "name": "stdout",
     "output_type": "stream",
     "text": [
      "the sum of the two number is: 30\n"
     ]
    }
   ],
   "source": [
    "a= int(input(\"enter number\"))\n",
    "b= int(input(\"enter number\"))\n",
    "print(\"the sum of the two number is:\",sum((a,b)))"
   ]
  },
  {
   "cell_type": "code",
   "execution_count": 56,
   "id": "a1d695c2",
   "metadata": {},
   "outputs": [
    {
     "data": {
      "text/plain": [
       "14"
      ]
     },
     "execution_count": 56,
     "metadata": {},
     "output_type": "execute_result"
    }
   ],
   "source": [
    "len(\"oworriowriowri\")\n",
    "\n",
    "\n",
    "\n"
   ]
  },
  {
   "cell_type": "code",
   "execution_count": null,
   "id": "41d22e3e",
   "metadata": {},
   "outputs": [],
   "source": []
  }
 ],
 "metadata": {
  "kernelspec": {
   "display_name": "Python 3",
   "language": "python",
   "name": "python3"
  },
  "language_info": {
   "codemirror_mode": {
    "name": "ipython",
    "version": 3
   },
   "file_extension": ".py",
   "mimetype": "text/x-python",
   "name": "python",
   "nbconvert_exporter": "python",
   "pygments_lexer": "ipython3",
   "version": "3.13.3"
  }
 },
 "nbformat": 4,
 "nbformat_minor": 5
}

{
 "cells": [
  {
   "cell_type": "code",
   "execution_count": 5,
   "id": "c3f5da1c",
   "metadata": {},
   "outputs": [
    {
     "name": "stdout",
     "output_type": "stream",
     "text": [
      "number1: 48\n",
      "number2: 3\n",
      "sum: 51\n",
      "subtract: 45\n",
      "divide: 16\n",
      "multiply: 144\n"
     ]
    }
   ],
   "source": [
    "number1=int(input(\"enter number\"))\n",
    "number2=int(input(\"enter number\"))\n",
    "sum=number1+number2\n",
    "subtract=number1-number2\n",
    "divide=number1//number2\n",
    "\n",
    "\n",
    "multiply=number1*number2\n",
    "print(\"number1:\",number1)\n",
    "print(\"number2:\",number2)\n",
    "print(\"sum:\",sum)\n",
    "print(\"subtract:\",subtract)\n",
    "print(\"divide:\",divide)\n",
    "print(\"multiply:\",multiply)\n"
   ]
  },
  {
   "cell_type": "code",
   "execution_count": 8,
   "id": "1dea4ecf",
   "metadata": {},
   "outputs": [
    {
     "name": "stdout",
     "output_type": "stream",
     "text": [
      "1\n",
      "64\n"
     ]
    }
   ],
   "source": [
    "a=4\n",
    "b=3\n",
    "print(a%b)\n",
    "print(a**b)\n"
   ]
  },
  {
   "cell_type": "code",
   "execution_count": null,
   "id": "a3c89aea",
   "metadata": {},
   "outputs": [
    {
     "name": "stdout",
     "output_type": "stream",
     "text": [
      "49\n"
     ]
    }
   ],
   "source": [
    "number1=int(input(\"enter number\"))\n",
    "number2=int(input(\"enter number\"))\n",
    "sum=number1+number2\n",
    "subtract=number1-number2\n",
    "divide=number1//number2\n",
    "multiply=number1*number2\n",
    "print(sum)"
   ]
  },
  {
   "cell_type": "code",
   "execution_count": 19,
   "id": "18fafb10",
   "metadata": {},
   "outputs": [
    {
     "name": "stdout",
     "output_type": "stream",
     "text": [
      "False\n",
      "True\n",
      "False\n",
      "True\n",
      "True\n",
      "False\n"
     ]
    }
   ],
   "source": [
    "a=100\n",
    "B=101\n",
    "print(a>B)\n",
    "print(a<B)\n",
    "print(a>=B)\n",
    "print(a<=B)\n",
    "print(a!=B)\n",
    "print(a==B)"
   ]
  }
 ],
 "metadata": {
  "kernelspec": {
   "display_name": "Python 3",
   "language": "python",
   "name": "python3"
  },
  "language_info": {
   "codemirror_mode": {
    "name": "ipython",
    "version": 3
   },
   "file_extension": ".py",
   "mimetype": "text/x-python",
   "name": "python",
   "nbconvert_exporter": "python",
   "pygments_lexer": "ipython3",
   "version": "3.13.3"
  }
 },
 "nbformat": 4,
 "nbformat_minor": 5
}

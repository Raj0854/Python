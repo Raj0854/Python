{
 "cells": [
  {
   "cell_type": "code",
   "execution_count": null,
   "id": "4c1fe737",
   "metadata": {},
   "outputs": [
    {
     "name": "stdout",
     "output_type": "stream",
     "text": [
      "10\n",
      "welcome\n"
     ]
    }
   ],
   "source": [
    "data=10\n",
    "print(data)\n",
    "a=\"welcome\"\n",
    "print(a)"
   ]
  },
  {
   "cell_type": "code",
   "execution_count": 29,
   "id": "c0678d64",
   "metadata": {},
   "outputs": [
    {
     "name": "stdout",
     "output_type": "stream",
     "text": [
      "<class 'set'>\n",
      "<class 'float'>\n",
      "<class 'list'>\n",
      "<class 'str'>\n",
      "<class 'str'>\n",
      "<class 'tuple'>\n",
      "{'name': 'xyz'}\n",
      "<class 'dict'>\n"
     ]
    }
   ],
   "source": [
    "a={1,12,2,2,2,1}\n",
    "b=44.5544\n",
    "print(type(a))\n",
    "print(type(b))\n",
    "c=[12,14,69465,14984,54]\n",
    "print(type(c))\n",
    "data=\"iughfcu\"\n",
    "print(type(data))\n",
    "date=(\"djoiwjdf\")\n",
    "print(type(date))\n",
    "r=(1,2,1,21,63,14)\n",
    "print(type(r))\n",
    "info={\"name\":\"xyz\"}\n",
    "print(info)\n",
    "print(type(info))\n",
    "\n"
   ]
  },
  {
   "cell_type": "code",
   "execution_count": 32,
   "id": "5d5acd7a",
   "metadata": {},
   "outputs": [
    {
     "name": "stdout",
     "output_type": "stream",
     "text": [
      "your name is: raj\n",
      "your age is: 19\n",
      "your location is: virar\n"
     ]
    }
   ],
   "source": [
    "#taking input from users\n",
    "#input()\n",
    "name= input(\"enter your name\")\n",
    "age= input(\"enter your age\")\n",
    "location=input(\"enter your location\")\n",
    "print(\"your name is:\",name)\n",
    "print(\"your age is:\",age)\n",
    "print(\"your location is:\",location)"
   ]
  },
  {
   "cell_type": "code",
   "execution_count": null,
   "id": "f47ec681",
   "metadata": {},
   "outputs": [
    {
     "name": "stdout",
     "output_type": "stream",
     "text": [
      "name of the student is: raj\n",
      "english: 85\n",
      "maths: 78\n",
      "histroy: 74\n",
      "total marks is: 237\n"
     ]
    }
   ],
   "source": [
    "#datatype conversion\n",
    "#int()\n",
    "#str()\n",
    "#float()\n",
    "name=input(\"enter name\")\n",
    "eng=int(input(\"enter eng marks\"))\n",
    "maths=int(input(\"enter maths marks\"))\n",
    "histroy=int(input(\"enter histroy marks\"))\n",
    "total= eng + maths + histroy\n",
    "print(\"name of the student is:\",name)\n",
    "print(\"english:\",eng)\n",
    "print(\"maths:\",maths)\n",
    "print(\"histroy:\",histroy)\n",
    "print(\"total marks is:\",total)"
   ]
  },
  {
   "cell_type": "code",
   "execution_count": 45,
   "id": "fbc7c5f2",
   "metadata": {},
   "outputs": [
    {
     "name": "stdout",
     "output_type": "stream",
     "text": [
      "name of the student is: atlaf\n",
      "english: 85\n",
      "maths: 87\n",
      "histroy: 98\n",
      "total marks is: 270\n"
     ]
    }
   ],
   "source": [
    "name=input(\"enter name\")\n",
    "eng=int(input(\"enter eng marks\"))\n",
    "maths=int(input(\"enter maths marks\"))\n",
    "histroy=int(input(\"enter histroy marks\"))\n",
    "total= eng + maths + histroy\n",
    "print(\"name of the student is:\",name)\n",
    "print(\"english:\",eng)\n",
    "print(\"maths:\",maths)\n",
    "print(\"histroy:\",histroy)\n",
    "print(\"total marks is:\",total)"
   ]
  },
  {
   "cell_type": "code",
   "execution_count": 52,
   "id": "87c9deb2",
   "metadata": {},
   "outputs": [
    {
     "name": "stdout",
     "output_type": "stream",
     "text": [
      "name of the employe is: altaf shah\n",
      "basic: 10000\n",
      "da: 2000\n",
      "pf: 3000\n",
      "health allowance: 1000\n",
      "total salary is: 10000\n"
     ]
    }
   ],
   "source": [
    "name=input(\"enter employee name\")\n",
    "basic=int(input(\"enter basic \"))\n",
    "da=int(input(\"enter da \"))\n",
    "health_allowance=int(input(\"enter health allowance\"))\n",
    "pf=int(input(\"enter pf\"))\n",
    "total= basic + da + health_allowance - pf\n",
    "print(\"name of the employe is:\",name)\n",
    "print(\"basic:\",basic)\n",
    "print(\"da:\",da)\n",
    "print(\"pf:\",pf)\n",
    "print(\"health allowance:\",health_allowance)\n",
    "print(\"total salary is:\",total)"
   ]
  },
  {
   "cell_type": "code",
   "execution_count": null,
   "id": "fa09fcb2",
   "metadata": {},
   "outputs": [
    {
     "name": "stdout",
     "output_type": "stream",
     "text": [
      "name of the employe is: ashwin\n",
      "basic: 10000\n",
      "da: 2000\n",
      "health allowance: 1000\n",
      "total salary is: 13000\n",
      "pf: 3000\n",
      "salary_taken_home: 10000\n"
     ]
    }
   ],
   "source": [
    "name=input(\"enter employee name\")\n",
    "basic=int(input(\"enter basic \"))\n",
    "da=int(input(\"enter da \"))\n",
    "health_allowance=int(input(\"enter health allowance\"))\n",
    "pf=int(input(\"enter pf\"))\n",
    "total= basic + da + health_allowance \n",
    "print(\"name of the employe is:\",name)\n",
    "print(\"basic:\",basic)\n",
    "print(\"da:\",da)\n",
    "print(\"health allowance:\",health_allowance)\n",
    "print(\"total salary is:\",total)\n",
    "print(\"pf:\",pf)\n",
    "salary_taken_home= basic + da + health_allowance -pf\n",
    "print( \"salary_taken_home:\",salary_taken_home)"
   ]
  },
  {
   "cell_type": "code",
   "execution_count": 4,
   "id": "14139feb",
   "metadata": {},
   "outputs": [
    {
     "name": "stdout",
     "output_type": "stream",
     "text": [
      "employee name is: aalam\n",
      "employee id: 102\n",
      "date of join: 21/02/2022\n",
      "basic sal: 1200\n",
      "da: 12514\n",
      "health_allowance is: 52612\n",
      "gross_sal is: 66326\n",
      "pf: 521\n",
      "net salary: 65805\n"
     ]
    }
   ],
   "source": [
    "name=input(\"enter employee name\")\n",
    "emp_id=int(input(\"enter emp id\"))\n",
    "date_of_join=(input(\"enter date of join\"))\n",
    "basic_sal=int(input(\"enter basic salary\"))\n",
    "da=int(input(\"enter da\"))\n",
    "health_allowance=int(input(\"enter health allowance\"))\n",
    "gross_sal= basic_sal + da +health_allowance\n",
    "pf=int(input(\"enter pf\"))\n",
    "net_salary=basic_sal + da +health_allowance - pf\n",
    "print(\"employee name is:\",name)\n",
    "print(\"employee id:\",emp_id)\n",
    "print(\"date of join:\",date_of_join)\n",
    "print(\"basic sal:\",basic_sal)\n",
    "print(\"da:\",da)\n",
    "print(\"health_allowance is:\",health_allowance)\n",
    "print(\"gross_sal is:\",gross_sal)\n",
    "print(\"pf:\",pf)\n",
    "print(\"net salary:\",net_salary)\n",
    "\n"
   ]
  },
  {
   "cell_type": "code",
   "execution_count": 5,
   "id": "7bbec56d",
   "metadata": {},
   "outputs": [
    {
     "name": "stdout",
     "output_type": "stream",
     "text": [
      "employee name is: ashwin\n",
      "employee id: 11\n",
      "date of join: 12/05/2005\n",
      "basic sal: 122000\n",
      "da: 20000\n",
      "health_allowance is: 10000\n",
      "gross_sal is: 152000\n",
      "pf: 5300\n",
      "net salary: 146700\n"
     ]
    }
   ],
   "source": [
    "name=input(\"enter employee name\")\n",
    "emp_id=int(input(\"enter emp id\"))\n",
    "date_of_join=(input(\"enter date of join\"))\n",
    "basic_sal=int(input(\"enter basic salary\"))\n",
    "da=int(input(\"enter da\"))\n",
    "health_allowance=int(input(\"enter health allowance\"))\n",
    "gross_sal= basic_sal + da +health_allowance\n",
    "pf=int(input(\"enter pf\"))\n",
    "net_salary=basic_sal + da +health_allowance - pf\n",
    "print(\"employee name is:\",name)\n",
    "print(\"employee id:\",emp_id)\n",
    "print(\"date of join:\",date_of_join)\n",
    "print(\"basic sal:\",basic_sal)\n",
    "print(\"da:\",da)\n",
    "print(\"health_allowance is:\",health_allowance)\n",
    "print(\"gross_sal is:\",gross_sal)\n",
    "print(\"pf:\",pf)\n",
    "print(\"net salary:\",net_salary)\n"
   ]
  },
  {
   "cell_type": "code",
   "execution_count": 9,
   "id": "fd31625f",
   "metadata": {},
   "outputs": [
    {
     "name": "stdout",
     "output_type": "stream",
     "text": [
      "your name is: ashwin\n",
      "english: 50\n",
      "maths: 74\n",
      "science: 78\n",
      "geography: 78\n",
      "total marks: 280\n"
     ]
    }
   ],
   "source": [
    "name=input(\"enter student name\")\n",
    "english=int(input(\" english marks\"))\n",
    "maths=int(input(\" maths marks\"))\n",
    "science=int(input(\" science marks\"))\n",
    "geography=int(input(\"geographymarks\"))\n",
    "total=english+maths+science+geography\n",
    "print(\"your name is:\",name)\n",
    "print(\"english:\",english)\n",
    "print(\"maths:\",maths)\n",
    "print(\"science:\",science)\n",
    "print(\"geography:\",geography)\n",
    "print(\"total marks:\",total)"
   ]
  }
 ],
 "metadata": {
  "kernelspec": {
   "display_name": "Python 3 (ipykernel)",
   "language": "python",
   "name": "python3"
  },
  "language_info": {
   "codemirror_mode": {
    "name": "ipython",
    "version": 3
   },
   "file_extension": ".py",
   "mimetype": "text/x-python",
   "name": "python",
   "nbconvert_exporter": "python",
   "pygments_lexer": "ipython3",
   "version": "3.12.7"
  }
 },
 "nbformat": 4,
 "nbformat_minor": 5
}
